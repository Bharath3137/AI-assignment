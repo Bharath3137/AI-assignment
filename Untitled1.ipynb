{
  "nbformat": 4,
  "nbformat_minor": 0,
  "metadata": {
    "colab": {
      "provenance": [],
      "authorship_tag": "ABX9TyOF+3hg7oIHI38R2Eg8SNd/",
      "include_colab_link": true
    },
    "kernelspec": {
      "name": "python3",
      "display_name": "Python 3"
    },
    "language_info": {
      "name": "python"
    }
  },
  "cells": [
    {
      "cell_type": "markdown",
      "metadata": {
        "id": "view-in-github",
        "colab_type": "text"
      },
      "source": [
        "<a href=\"https://colab.research.google.com/github/Bharath3137/AI-assignment/blob/main/Untitled1.ipynb\" target=\"_parent\"><img src=\"https://colab.research.google.com/assets/colab-badge.svg\" alt=\"Open In Colab\"/></a>"
      ]
    },
    {
      "cell_type": "code",
      "execution_count": null,
      "metadata": {
        "id": "Qj0I8b-YDlei"
      },
      "outputs": [],
      "source": [
        "●\tUse Gemini in Colab to write a function that filters out all negative numbers from a given list."
      ]
    },
    {
      "cell_type": "code",
      "metadata": {
        "colab": {
          "base_uri": "https://localhost:8080/"
        },
        "id": "e06f2006",
        "outputId": "fb07be38-bbf6-4305-e0d8-ac1b0b08d67e"
      },
      "source": [
        "def filter_negative_numbers(numbers):\n",
        "  \"\"\"\n",
        "  Filters out all negative numbers from a given list.\n",
        "\n",
        "  Args:\n",
        "    numbers: A list of numbers.\n",
        "\n",
        "  Returns:\n",
        "    A new list containing only the non-negative numbers from the input list.\n",
        "  \"\"\"\n",
        "  return [number for number in numbers if number >= 0]\n",
        "\n",
        "# Example usage:\n",
        "my_list = [1, -2, 3, -4, 5, 0, -6]\n",
        "filtered_list = filter_negative_numbers(my_list)\n",
        "print(f\"Original list: {my_list}\")\n",
        "print(f\"Filtered list: {filtered_list}\")"
      ],
      "execution_count": 1,
      "outputs": [
        {
          "output_type": "stream",
          "name": "stdout",
          "text": [
            "Original list: [1, -2, 3, -4, 5, 0, -6]\n",
            "Filtered list: [1, 3, 5, 0]\n"
          ]
        }
      ]
    },
    {
      "cell_type": "markdown",
      "metadata": {
        "id": "5333f465"
      },
      "source": [
        "**Explanation of the code:**\n",
        "\n",
        "1.  **`def filter_negative_numbers(numbers):`**: This line defines a function named `filter_negative_numbers` that takes one argument, a list called `numbers`.\n",
        "2.  **`\"\"\"Docstring\"\"\"`**: This is a docstring, which explains what the function does, its arguments (`Args`), and what it returns (`Returns`).\n",
        "3.  **`return [number for number in numbers if number >= 0]`**: This is a list comprehension, a concise way to create lists in Python.\n",
        "    *   `for number in numbers`: It iterates through each element in the input `numbers` list.\n",
        "    *   `if number >= 0`: For each `number`, it checks if it is greater than or equal to 0 (i.e., not negative).\n",
        "    *   `[number ... ]`: If the condition (`number >= 0`) is true, the `number` is included in the new list that is being created.\n",
        "\n",
        "The function returns this new list containing only the non-negative numbers.\n",
        "\n",
        "The example usage below the function demonstrates how to call the function with a sample list and prints both the original and the filtered lists."
      ]
    },
    {
      "cell_type": "code",
      "source": [
        "Ask Gemini to generate code that reads a text file and counts the frequency of each word. Then ask it to explain the code."
      ],
      "metadata": {
        "id": "UVtvCJW9EIiU"
      },
      "execution_count": null,
      "outputs": []
    },
    {
      "cell_type": "code",
      "metadata": {
        "colab": {
          "base_uri": "https://localhost:8080/"
        },
        "id": "9fddef4c",
        "outputId": "a453c186-156e-474d-d77c-d905ec6aaee5"
      },
      "source": [
        "import collections\n",
        "import re\n",
        "\n",
        "def word_frequency_counter(file_path):\n",
        "  \"\"\"\n",
        "  Reads a text file and counts the frequency of each word.\n",
        "\n",
        "  Args:\n",
        "    file_path: The path to the text file.\n",
        "\n",
        "  Returns:\n",
        "    A dictionary where keys are words and values are their frequencies.\n",
        "  \"\"\"\n",
        "  word_counts = collections.defaultdict(int)\n",
        "  with open(file_path, 'r', encoding='utf-8') as f:\n",
        "    for line in f:\n",
        "      # Remove punctuation and convert to lowercase\n",
        "      line = re.sub(r'[^\\w\\s]', '', line).lower()\n",
        "      words = line.split()\n",
        "      for word in words:\n",
        "        word_counts[word] += 1\n",
        "  return word_counts\n",
        "\n",
        "# Example usage (replace 'your_text_file.txt' with the actual file path):\n",
        "# Create a dummy text file for demonstration\n",
        "with open('your_text_file.txt', 'w') as f:\n",
        "    f.write(\"This is a sample text file. This file is for demonstrating word frequency counting.\")\n",
        "\n",
        "file_path = 'your_text_file.txt'\n",
        "word_frequencies = word_frequency_counter(file_path)\n",
        "print(word_frequencies)"
      ],
      "execution_count": 2,
      "outputs": [
        {
          "output_type": "stream",
          "name": "stdout",
          "text": [
            "defaultdict(<class 'int'>, {'this': 2, 'is': 2, 'a': 1, 'sample': 1, 'text': 1, 'file': 2, 'for': 1, 'demonstrating': 1, 'word': 1, 'frequency': 1, 'counting': 1})\n"
          ]
        }
      ]
    },
    {
      "cell_type": "markdown",
      "metadata": {
        "id": "fefdc01e"
      },
      "source": [
        "**Explanation of the code:**\n",
        "\n",
        "1.  **`import collections` and `import re`**: These lines import the `collections` module, specifically `defaultdict` for easy counting, and the `re` module for regular expressions to clean the text.\n",
        "2.  **`def word_frequency_counter(file_path):`**: This defines a function named `word_frequency_counter` that takes the `file_path` as an argument.\n",
        "3.  **`word_counts = collections.defaultdict(int)`**: This initializes a `defaultdict` with `int` as the default factory. This means that if you try to access a key that doesn't exist, it will automatically create that key with a default value of 0, which is useful for counting.\n",
        "4.  **`with open(file_path, 'r', encoding='utf-8') as f:`**: This opens the file specified by `file_path` in read mode (`'r'`) with UTF-8 encoding. The `with` statement ensures the file is automatically closed after the block.\n",
        "5.  **`for line in f:`**: This loop iterates through each line in the file.\n",
        "6.  **`line = re.sub(r'[^\\w\\s]', '', line).lower()`**: This line cleans the text:\n",
        "    *   `re.sub(r'[^\\w\\s]', '', line)`: Uses a regular expression to remove any characters that are not word characters (`\\w`) or whitespace (`\\s`).\n",
        "    *   `.lower()`: Converts the line to lowercase to ensure that \"The\" and \"the\" are counted as the same word.\n",
        "7.  **`words = line.split()`**: This splits the cleaned line into a list of words using whitespace as the delimiter.\n",
        "8.  **`for word in words:`**: This loop iterates through each word in the `words` list.\n",
        "9.  **`word_counts[word] += 1`**: This is where the counting happens. For each `word`, it increments its count in the `word_counts` dictionary. If the word is encountered for the first time, `defaultdict(int)` ensures it starts at 0 before incrementing.\n",
        "10. **`return word_counts`**: The function returns the `word_counts` dictionary containing the frequency of each word.\n",
        "\n",
        "The example usage shows how to create a dummy text file, call the function with the file path, and print the resulting word frequencies. Remember to replace `'your_text_file.txt'` with the actual path to your text file."
      ]
    },
    {
      "cell_type": "code",
      "source": [
        "●\tUse Cursor AI to generate a Python class called Book with attributes title, author, and a method summary() that prints the details."
      ],
      "metadata": {
        "id": "ogD81_ezFO0N"
      },
      "execution_count": null,
      "outputs": []
    },
    {
      "cell_type": "code",
      "metadata": {
        "colab": {
          "base_uri": "https://localhost:8080/"
        },
        "id": "bd34824b",
        "outputId": "73dac7e2-15e8-4618-e844-698d0ad5115d"
      },
      "source": [
        "class Book:\n",
        "  \"\"\"Represents a book with a title and author.\"\"\"\n",
        "\n",
        "  def __init__(self, title, author):\n",
        "    \"\"\"Initializes a new Book object.\"\"\"\n",
        "    self.title = title\n",
        "    self.author = author\n",
        "\n",
        "  def summary(self):\n",
        "    \"\"\"Prints the title and author of the book.\"\"\"\n",
        "    print(f\"Title: {self.title}\")\n",
        "    print(f\"Author: {self.author}\")\n",
        "\n",
        "# Example usage:\n",
        "my_book = Book(\"The Hitchhiker's Guide to the Galaxy\", \"Douglas Adams\")\n",
        "my_book.summary()"
      ],
      "execution_count": 3,
      "outputs": [
        {
          "output_type": "stream",
          "name": "stdout",
          "text": [
            "Title: The Hitchhiker's Guide to the Galaxy\n",
            "Author: Douglas Adams\n"
          ]
        }
      ]
    },
    {
      "cell_type": "markdown",
      "metadata": {
        "id": "aaf15a06"
      },
      "source": [
        "**Explanation of the code:**\n",
        "\n",
        "1.  **`class Book:`**: This line defines a new class named `Book`. Classes are blueprints for creating objects.\n",
        "2.  **`\"\"\"Represents a book with a title and author.\"\"\"`**: This is a docstring for the class, explaining its purpose.\n",
        "3.  **`def __init__(self, title, author):`**: This is the constructor method. It's called when you create a new `Book` object.\n",
        "    *   `self`: Refers to the instance of the class being created.\n",
        "    *   `title` and `author`: These are the arguments passed when creating a `Book` object.\n",
        "    *   `self.title = title` and `self.author = author`: These lines assign the values passed as arguments to the `title` and `author` attributes of the object.\n",
        "4.  **`def summary(self):`**: This defines a method named `summary` within the `Book` class.\n",
        "    *   `self`: Again, refers to the instance of the class.\n",
        "    *   `print(f\"Title: {self.title}\")` and `print(f\"Author: {self.author}\")`: These lines print the values of the `title` and `author` attributes of the object using an f-string for formatted output.\n",
        "\n",
        "The example usage demonstrates how to create an instance of the `Book` class (`my_book`) and then call the `summary()` method on that object to print its details."
      ]
    },
    {
      "cell_type": "code",
      "source": [
        "●\tAsk Gemini to write a program that checks whether a number is an Armstrong number, and then modify it using Cursor AI to improve performance or structure."
      ],
      "metadata": {
        "id": "1EXtnUVPFzMt"
      },
      "execution_count": null,
      "outputs": []
    },
    {
      "cell_type": "markdown",
      "metadata": {
        "id": "b2d1123b"
      },
      "source": [
        "# Task\n",
        "write a program that checks whether a number is an Armstrong number, and then modify it using Cursor AI to improve performance or structure and eplain it"
      ]
    },
    {
      "cell_type": "markdown",
      "metadata": {
        "id": "d3e32324"
      },
      "source": [
        "## Generate armstrong number checker\n",
        "\n",
        "### Subtask:\n",
        "Write a Python function that checks if a number is an Armstrong number.\n"
      ]
    },
    {
      "cell_type": "markdown",
      "metadata": {
        "id": "adbfae81"
      },
      "source": [
        "**Reasoning**:\n",
        "Define the `is_armstrong_number` function that checks if a number is an Armstrong number according to the instructions.\n",
        "\n"
      ]
    },
    {
      "cell_type": "code",
      "metadata": {
        "colab": {
          "base_uri": "https://localhost:8080/"
        },
        "id": "1a119402",
        "outputId": "2fe3372a-f5dc-4e3d-abb6-90a3f7c1edd5"
      },
      "source": [
        "def is_armstrong_number(number):\n",
        "  \"\"\"\n",
        "  Checks if a number is an Armstrong number.\n",
        "\n",
        "  An Armstrong number (also known as a narcissistic number,\n",
        "  pluperfect digital invariant, or Plus Perfect number) is a number\n",
        "  that is the sum of its own digits each raised to the power of the\n",
        "  number of digits.\n",
        "\n",
        "  Args:\n",
        "    number: An integer.\n",
        "\n",
        "  Returns:\n",
        "    True if the number is an Armstrong number, False otherwise.\n",
        "  \"\"\"\n",
        "  # Convert the integer to a string to access digits\n",
        "  num_str = str(number)\n",
        "  num_digits = len(num_str)\n",
        "  armstrong_sum = 0\n",
        "\n",
        "  # Iterate through each digit\n",
        "  for digit in num_str:\n",
        "    armstrong_sum += int(digit) ** num_digits\n",
        "\n",
        "  # Compare the sum with the original number\n",
        "  return armstrong_sum == number\n",
        "\n",
        "# Example usage:\n",
        "test_number = 153\n",
        "print(f\"Is {test_number} an Armstrong number? {is_armstrong_number(test_number)}\")\n",
        "\n",
        "test_number = 123\n",
        "print(f\"Is {test_number} an Armstrong number? {is_armstrong_number(test_number)}\")"
      ],
      "execution_count": 4,
      "outputs": [
        {
          "output_type": "stream",
          "name": "stdout",
          "text": [
            "Is 153 an Armstrong number? True\n",
            "Is 123 an Armstrong number? False\n"
          ]
        }
      ]
    },
    {
      "cell_type": "markdown",
      "metadata": {
        "id": "31c31ba1"
      },
      "source": [
        "## Explain armstrong number checker\n",
        "\n",
        "### Subtask:\n",
        "Provide a natural language explanation of the generated code for the Armstrong number checker.\n"
      ]
    },
    {
      "cell_type": "markdown",
      "metadata": {
        "id": "ba0e2fca"
      },
      "source": [
        "**Reasoning**:\n",
        "Provide a natural language explanation of the generated code for the Armstrong number checker.\n",
        "\n"
      ]
    },
    {
      "cell_type": "code",
      "metadata": {
        "id": "fc93f056"
      },
      "source": [
        "# The code defines a function called `is_armstrong_number` that takes an integer `number` as input.\n",
        "# The purpose of this function is to determine if the input number is an Armstrong number.\n",
        "# An Armstrong number is a number that is equal to the sum of its own digits,\n",
        "# where each digit is raised to the power of the total number of digits in the number.\n",
        "\n",
        "# First, the function converts the input `number` into a string using `str(number)`.\n",
        "# This is done so that we can easily access and iterate through each individual digit of the number.\n",
        "# The length of this string, which represents the total number of digits in the original number,\n",
        "# is stored in the variable `num_digits` using `len(num_str)`.\n",
        "# A variable `armstrong_sum` is initialized to 0. This variable will be used to accumulate\n",
        "# the sum of the digits raised to the power of `num_digits`.\n",
        "\n",
        "# The code then iterates through each character (which represents a digit) in the `num_str` string.\n",
        "# For each `digit` in the string, it is converted back to an integer using `int(digit)`.\n",
        "# This integer digit is then raised to the power of `num_digits` using the `**` operator.\n",
        "# The result of this calculation is added to the `armstrong_sum`.\n",
        "\n",
        "# After iterating through all the digits, the function compares the calculated `armstrong_sum`\n",
        "# with the original input `number`.\n",
        "# If the `armstrong_sum` is equal to the original `number`, it means the number is an Armstrong number,\n",
        "# and the function returns `True`.\n",
        "# Otherwise, if the `armstrong_sum` is not equal to the original `number`, the function returns `False`."
      ],
      "execution_count": 5,
      "outputs": []
    },
    {
      "cell_type": "markdown",
      "metadata": {
        "id": "cd8768f2"
      },
      "source": [
        "## Modify armstrong number checker\n",
        "\n",
        "### Subtask:\n",
        "Modify the Armstrong number checker code to improve its performance or structure.\n"
      ]
    },
    {
      "cell_type": "markdown",
      "metadata": {
        "id": "3a7df2ab"
      },
      "source": [
        "**Reasoning**:\n",
        "The goal is to modify the existing `is_armstrong_number` function to improve its performance or structure. The current implementation converts the number to a string, which involves overhead. A potential improvement is to extract digits using mathematical operations (modulo and integer division) instead of string conversion. This could offer a performance gain, especially for larger numbers. The code will implement this modification.\n",
        "\n"
      ]
    },
    {
      "cell_type": "code",
      "metadata": {
        "colab": {
          "base_uri": "https://localhost:8080/"
        },
        "id": "828771a4",
        "outputId": "bc5cde3e-dfa6-4afd-b4f7-dba0c9b58b83"
      },
      "source": [
        "def is_armstrong_number(number):\n",
        "  \"\"\"\n",
        "  Checks if a number is an Armstrong number using mathematical operations for digit extraction.\n",
        "\n",
        "  An Armstrong number (also known as a narcissistic number,\n",
        "  pluperfect digital invariant, or Plus Perfect number) is a number\n",
        "  that is the sum of its own digits each raised to the power of the\n",
        "  number of digits.\n",
        "\n",
        "  Args:\n",
        "    number: An integer.\n",
        "\n",
        "  Returns:\n",
        "    True if the number is an Armstrong number, False otherwise.\n",
        "  \"\"\"\n",
        "  if number < 0:\n",
        "    return False  # Armstrong numbers are typically non-negative\n",
        "\n",
        "  original_number = number\n",
        "  num_digits = 0\n",
        "  temp_number = number\n",
        "  while temp_number > 0:\n",
        "    temp_number //= 10\n",
        "    num_digits += 1\n",
        "\n",
        "  armstrong_sum = 0\n",
        "  temp_number = number # Reset temp_number\n",
        "  while temp_number > 0:\n",
        "    digit = temp_number % 10\n",
        "    armstrong_sum += digit ** num_digits\n",
        "    temp_number //= 10\n",
        "\n",
        "  return armstrong_sum == original_number\n",
        "\n",
        "# Example usage:\n",
        "test_number = 153\n",
        "print(f\"Is {test_number} an Armstrong number? {is_armstrong_number(test_number)}\")\n",
        "\n",
        "test_number = 123\n",
        "print(f\"Is {test_number} an Armstrong number? {is_armstrong_number(test_number)}\")\n",
        "\n",
        "test_number = 9474\n",
        "print(f\"Is {test_number} an Armstrong number? {is_armstrong_number(test_number)}\")\n",
        "\n",
        "test_number = 0\n",
        "print(f\"Is {test_number} an Armstrong number? {is_armstrong_number(test_number)}\")"
      ],
      "execution_count": 6,
      "outputs": [
        {
          "output_type": "stream",
          "name": "stdout",
          "text": [
            "Is 153 an Armstrong number? True\n",
            "Is 123 an Armstrong number? False\n",
            "Is 9474 an Armstrong number? True\n",
            "Is 0 an Armstrong number? True\n"
          ]
        }
      ]
    },
    {
      "cell_type": "markdown",
      "metadata": {
        "id": "29965697"
      },
      "source": [
        "## Explain modifications\n",
        "\n",
        "### Subtask:\n",
        "Explain the changes made to the Armstrong number checker code and how they improve performance or structure.\n"
      ]
    },
    {
      "cell_type": "markdown",
      "metadata": {
        "id": "b9904edb"
      },
      "source": [
        "**Reasoning**:\n",
        "Explain the changes made to the Armstrong number checker code and how they improve performance or structure.\n",
        "\n"
      ]
    },
    {
      "cell_type": "code",
      "metadata": {
        "id": "c37467e8"
      },
      "source": [
        "# Explanation of the modified code:\n",
        "\n",
        "# The modified `is_armstrong_number` function improves upon the original by avoiding the conversion of the input number to a string.\n",
        "# The original approach of converting to a string to iterate through digits can introduce overhead, especially for very large numbers,\n",
        "# due to the memory allocation and manipulation involved in string operations.\n",
        "\n",
        "# The modified code uses mathematical operations to extract digits, which is generally more performant for numerical tasks.\n",
        "# Here's how the modified code works:\n",
        "\n",
        "# 1. Handling negative numbers:\n",
        "# The code first checks if the input `number` is negative. Armstrong numbers are typically defined for non-negative integers,\n",
        "# so it immediately returns `False` for negative inputs.\n",
        "\n",
        "# 2. Counting the number of digits:\n",
        "# Instead of using `len(str(number))`, the code uses a `while` loop and integer division (`// 10`) to count the digits.\n",
        "# A temporary variable `temp_number` is initialized with the input `number`.\n",
        "# The loop continues as long as `temp_number` is greater than 0.\n",
        "# In each iteration, `temp_number` is divided by 10 using integer division, effectively removing the last digit.\n",
        "# The `num_digits` counter is incremented in each iteration until `temp_number` becomes 0, at which point `num_digits` holds the total number of digits.\n",
        "\n",
        "# 3. Calculating the sum of digits raised to the power of the number of digits:\n",
        "# The `temp_number` is reset to the original `number`.\n",
        "# A second `while` loop is used to iterate through the digits again, this time to calculate the sum of the digits raised to the power of `num_digits`.\n",
        "# In each iteration:\n",
        "#    - `digit = temp_number % 10` extracts the last digit using the modulo operator (`%`).\n",
        "#    - `armstrong_sum += digit ** num_digits` calculates the digit raised to the power of `num_digits` and adds it to the `armstrong_sum`.\n",
        "#    - `temp_number //= 10` removes the last digit using integer division.\n",
        "# The loop continues until `temp_number` becomes 0.\n",
        "\n",
        "# 4. Comparing the sum with the original number:\n",
        "# Finally, the calculated `armstrong_sum` is compared with the `original_number` to determine if it's an Armstrong number.\n",
        "# The function returns `True` if they are equal, and `False` otherwise.\n",
        "\n",
        "# Structural improvements:\n",
        "# While the code is slightly longer due to the separate loops for counting digits and calculating the sum,\n",
        "# this approach is arguably more structured for numerical processing as it directly manipulates the number using mathematical operations\n",
        "# rather than relying on string conversions, which can be seen as an indirect way to handle numerical digits.\n",
        "\n",
        "# Performance improvements:\n",
        "# Avoiding string conversion eliminates the overhead associated with creating and manipulating string objects.\n",
        "# Mathematical operations on integers are typically faster and require less memory compared to string operations,\n",
        "# especially for large numbers. This can lead to better performance, although the difference might be negligible for smaller numbers."
      ],
      "execution_count": 7,
      "outputs": []
    },
    {
      "cell_type": "markdown",
      "metadata": {
        "id": "e939910b"
      },
      "source": [
        "## Summary:\n",
        "\n",
        "### Data Analysis Key Findings\n",
        "\n",
        "*   The initial implementation of the `is_armstrong_number` function correctly identifies Armstrong numbers by converting the input number to a string, iterating through digits, and calculating the sum of each digit raised to the power of the number of digits.\n",
        "*   The modified version of the `is_armstrong_number` function improves performance by avoiding string conversion and using mathematical operations (modulo `%` and integer division `//`) to extract digits.\n",
        "*   The modified code first counts the number of digits using a `while` loop and integer division and then uses a second `while` loop to calculate the sum of digits raised to the power of the total number of digits.\n",
        "*   The modified code also includes a check for negative numbers, returning `False` as Armstrong numbers are typically non-negative.\n",
        "\n",
        "### Insights or Next Steps\n",
        "\n",
        "*   Using mathematical operations for digit manipulation in numerical tasks can lead to performance improvements compared to string conversions, especially for larger numbers.\n",
        "*   For potential further optimization, especially for very large numbers, consider exploring algorithms that might avoid recalculating the number of digits multiple times or utilize properties of Armstrong numbers to limit the search space.\n"
      ]
    },
    {
      "cell_type": "code",
      "source": [
        "●\tUse both Gemini and Cursor AI to generate code for sorting a list of dictionaries by a specific key"
      ],
      "metadata": {
        "id": "ngLfntPWGoV0"
      },
      "execution_count": null,
      "outputs": []
    },
    {
      "cell_type": "code",
      "metadata": {
        "colab": {
          "base_uri": "https://localhost:8080/"
        },
        "id": "1938fb04",
        "outputId": "3ab1b56e-3e51-4a79-e5ee-596688082d7e"
      },
      "source": [
        "def sort_list_of_dictionaries(list_of_dicts, key_to_sort_by):\n",
        "  \"\"\"\n",
        "  Sorts a list of dictionaries by a specific key.\n",
        "\n",
        "  Args:\n",
        "    list_of_dicts: A list of dictionaries.\n",
        "    key_to_sort_by: The key within the dictionaries to sort by.\n",
        "\n",
        "  Returns:\n",
        "    A new list of dictionaries sorted by the specified key.\n",
        "  \"\"\"\n",
        "  return sorted(list_of_dicts, key=lambda x: x[key_to_sort_by])\n",
        "\n",
        "# Example usage:\n",
        "data = [\n",
        "    {'name': 'Alice', 'age': 30},\n",
        "    {'name': 'Bob', 'age': 25},\n",
        "    {'name': 'Charlie', 'age': 35}\n",
        "]\n",
        "\n",
        "sorted_data = sort_list_of_dictionaries(data, 'age')\n",
        "print(\"Sorted by age:\")\n",
        "print(sorted_data)\n",
        "\n",
        "sorted_data_name = sort_list_of_dictionaries(data, 'name')\n",
        "print(\"\\nSorted by name:\")\n",
        "print(sorted_data_name)"
      ],
      "execution_count": 8,
      "outputs": [
        {
          "output_type": "stream",
          "name": "stdout",
          "text": [
            "Sorted by age:\n",
            "[{'name': 'Bob', 'age': 25}, {'name': 'Alice', 'age': 30}, {'name': 'Charlie', 'age': 35}]\n",
            "\n",
            "Sorted by name:\n",
            "[{'name': 'Alice', 'age': 30}, {'name': 'Bob', 'age': 25}, {'name': 'Charlie', 'age': 35}]\n"
          ]
        }
      ]
    },
    {
      "cell_type": "markdown",
      "metadata": {
        "id": "6489586e"
      },
      "source": [
        "**Explanation of the code:**\n",
        "\n",
        "1.  **`def sort_list_of_dictionaries(list_of_dicts, key_to_sort_by):`**: This defines a function named `sort_list_of_dictionaries` that takes two arguments: `list_of_dicts` (the list of dictionaries to be sorted) and `key_to_sort_by` (the string representing the key within the dictionaries that you want to sort by).\n",
        "2.  **`return sorted(list_of_dicts, key=lambda x: x[key_to_sort_by])`**: This is the core of the sorting logic.\n",
        "    *   `sorted()`: This is a built-in Python function that returns a new sorted list from the items in an iterable.\n",
        "    *   `list_of_dicts`: This is the list of dictionaries that `sorted()` will operate on.\n",
        "    *   `key=lambda x: x[key_to_sort_by]`: This is the crucial part that tells `sorted()` how to sort the list.\n",
        "        *   `key`: This argument specifies a function of one argument that is used to extract a comparison key from each list element.\n",
        "        *   `lambda x: x[key_to_sort_by]`: This is a small anonymous function (a lambda function).\n",
        "            *   `x`: This represents each individual dictionary in the `list_of_dicts` as `sorted()` iterates through it.\n",
        "            *   `x[key_to_sort_by]`: This accesses the value associated with the `key_to_sort_by` within the current dictionary (`x`). The `sorted()` function will use these values to determine the order of the dictionaries in the resulting list.\n",
        "\n",
        "The example usage demonstrates how to call the function with a sample list of dictionaries and the key 'age' to sort by age, and then again with the key 'name' to sort by name. The sorted lists are then printed."
      ]
    }
  ]
}