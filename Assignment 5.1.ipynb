{
  "nbformat": 4,
  "nbformat_minor": 0,
  "metadata": {
    "colab": {
      "provenance": [],
      "authorship_tag": "ABX9TyNObUkcOIasMYC2Pi8YmDDH",
      "include_colab_link": true
    },
    "kernelspec": {
      "name": "python3",
      "display_name": "Python 3"
    },
    "language_info": {
      "name": "python"
    }
  },
  "cells": [
    {
      "cell_type": "markdown",
      "metadata": {
        "id": "view-in-github",
        "colab_type": "text"
      },
      "source": [
        "<a href=\"https://colab.research.google.com/github/Bharath3137/AI-assignment/blob/main/Assignment%205.1.ipynb\" target=\"_parent\"><img src=\"https://colab.research.google.com/assets/colab-badge.svg\" alt=\"Open In Colab\"/></a>"
      ]
    },
    {
      "cell_type": "code",
      "execution_count": null,
      "metadata": {
        "id": "rfwc-zcs-YMc"
      },
      "outputs": [],
      "source": [
        "Task Description #1 (Privacy in API Usage)\n",
        "Task: Use an AI tool to generate a Python program that connects to a weather API.\n",
        "Prompt:\n",
        "\"Generate code to fetch weather data securely without exposing API keys in the code.\"\n"
      ]
    },
    {
      "cell_type": "markdown",
      "metadata": {
        "id": "b25805d2"
      },
      "source": [
        "# Task\n",
        "Explain how to securely fetch weather data using an API key without exposing it in the code, including explaining the importance of API key security, how to store the API key securely in Colab, and generating Python code to fetch the data using the stored key."
      ]
    },
    {
      "cell_type": "markdown",
      "metadata": {
        "id": "454bfbaa"
      },
      "source": [
        "## Explain api key security\n",
        "\n",
        "### Subtask:\n",
        "Provide markdown explaining the importance of keeping API keys secure and not directly embedding them in code.\n"
      ]
    },
    {
      "cell_type": "markdown",
      "metadata": {
        "id": "b241837f"
      },
      "source": [
        "**Reasoning**:\n",
        "The subtask requires providing a markdown explanation about API key security. This can be achieved by creating a markdown cell with the requested information.\n",
        "\n"
      ]
    },
    {
      "cell_type": "code",
      "metadata": {
        "colab": {
          "base_uri": "https://localhost:8080/",
          "height": 1000
        },
        "id": "074f2d6e",
        "outputId": "c5d81250-575b-4293-d7ce-bf6b774dcaf4"
      },
      "source": [
        "%%markdown\n",
        "\n",
        "### Importance of Keeping API Keys Secure\n",
        "\n",
        "API keys are like passwords that grant access to external services and data. Keeping them secure is paramount to prevent unauthorized access, potential misuse, and unexpected costs. Directly embedding API keys within your code is a significant security vulnerability, as anyone who can view your code will have access to your keys.\n",
        "\n",
        "Exposing API keys can lead to several risks:\n",
        "\n",
        "*   **Unauthorized Access:** Malicious actors could use your API keys to access sensitive data or perform actions on your behalf without your consent.\n",
        "*   **Overuse and Unexpected Costs:** Many APIs have usage limits or are pay-per-use. If your API key is compromised, attackers could overuse the service, leading to substantial and unexpected billing.\n",
        "*   **Service Abuse:** Exposed API keys can be used to spam, perform denial-of-service attacks, or engage in other malicious activities, potentially leading to your access being revoked or legal consequences.\n",
        "\n",
        "Therefore, it is crucial to store API keys securely outside of your code, using methods like environment variables or secrets management systems."
      ],
      "execution_count": 1,
      "outputs": [
        {
          "output_type": "display_data",
          "data": {
            "text/plain": [
              "<IPython.core.display.Markdown object>"
            ],
            "text/markdown": "\n### Importance of Keeping API Keys Secure\n\nAPI keys are like passwords that grant access to external services and data. Keeping them secure is paramount to prevent unauthorized access, potential misuse, and unexpected costs. Directly embedding API keys within your code is a significant security vulnerability, as anyone who can view your code will have access to your keys.\n\nExposing API keys can lead to several risks:\n\n*   **Unauthorized Access:** Malicious actors could use your API keys to access sensitive data or perform actions on your behalf without your consent.\n*   **Overuse and Unexpected Costs:** Many APIs have usage limits or are pay-per-use. If your API key is compromised, attackers could overuse the service, leading to substantial and unexpected billing.\n*   **Service Abuse:** Exposed API keys can be used to spam, perform denial-of-service attacks, or engage in other malicious activities, potentially leading to your access being revoked or legal consequences.\n\nTherefore, it is crucial to store API keys securely outside of your code, using methods like environment variables or secrets management systems.\n"
          },
          "metadata": {}
        }
      ]
    },
    {
      "cell_type": "markdown",
      "metadata": {
        "id": "7715bdeb"
      },
      "source": [
        "## Explain storing api key\n",
        "\n",
        "### Subtask:\n",
        "Explain how to store the API key securely in Colab using the User Secrets feature.\n"
      ]
    },
    {
      "cell_type": "markdown",
      "metadata": {
        "id": "8454b29e"
      },
      "source": [
        "**Reasoning**:\n",
        "Create a markdown cell and explain how to store API keys securely in Google Colab using the Secrets feature, including instructions on accessing the panel, adding a new secret, and emphasizing the security benefit.\n",
        "\n"
      ]
    },
    {
      "cell_type": "code",
      "metadata": {
        "colab": {
          "base_uri": "https://localhost:8080/",
          "height": 1000
        },
        "id": "caac0da1",
        "outputId": "c6b6b271-05a0-48a3-8ff3-b0a0781e0866"
      },
      "source": [
        "%%markdownmarkdown\n",
        "\n",
        "### Storing API Keys Securely in Google Colab using Secrets\n",
        "\n",
        "Google Colab provides a secure way to store sensitive information like API keys using the **Secrets** feature (formerly known as User Secrets). This method allows you to store key-value pairs that can be accessed within your notebook without being directly embedded in your code, significantly enhancing security.\n",
        "\n",
        "Here's how to use the Secrets feature:\n",
        "\n",
        "1.  **Access the Secrets Panel:** On the left-hand sidebar in your Colab notebook, click on the **key icon** (🔑). This will open the Secrets panel.\n",
        "2.  **Add a New Secret:** In the Secrets panel, click on the **\"+ New secret\"** button.\n",
        "3.  **Enter Key and Value:** A new row will appear with two fields: \"Name\" and \"Value\".\n",
        "    *   In the \"Name\" field, enter a descriptive name for your API key. It's a good practice to use uppercase with underscores, for example, `WEATHER_API_KEY`.\n",
        "    *   In the \"Value\" field, paste your actual API key.\n",
        "4.  **Save the Secret:** Click the **check mark** (✓) next to the new secret to save it.\n",
        "\n",
        "Once saved, the API key is stored securely and is not visible in your notebook's code. You can then access this secret within your Python code using the `colab_secrets` library or by enabling the Secrets feature for the notebook. This separation of concerns is crucial for maintaining the security and privacy of your API keys."
      ],
      "execution_count": 2,
      "outputs": [
        {
          "output_type": "display_data",
          "data": {
            "text/plain": [
              "<IPython.core.display.Markdown object>"
            ],
            "text/markdown": "\n### Storing API Keys Securely in Google Colab using Secrets\n\nGoogle Colab provides a secure way to store sensitive information like API keys using the **Secrets** feature (formerly known as User Secrets). This method allows you to store key-value pairs that can be accessed within your notebook without being directly embedded in your code, significantly enhancing security.\n\nHere's how to use the Secrets feature:\n\n1.  **Access the Secrets Panel:** On the left-hand sidebar in your Colab notebook, click on the **key icon** (🔑). This will open the Secrets panel.\n2.  **Add a New Secret:** In the Secrets panel, click on the **\"+ New secret\"** button.\n3.  **Enter Key and Value:** A new row will appear with two fields: \"Name\" and \"Value\".\n    *   In the \"Name\" field, enter a descriptive name for your API key. It's a good practice to use uppercase with underscores, for example, `WEATHER_API_KEY`.\n    *   In the \"Value\" field, paste your actual API key.\n4.  **Save the Secret:** Click the **check mark** (✓) next to the new secret to save it.\n\nOnce saved, the API key is stored securely and is not visible in your notebook's code. You can then access this secret within your Python code using the `colab_secrets` library or by enabling the Secrets feature for the notebook. This separation of concerns is crucial for maintaining the security and privacy of your API keys.\n"
          },
          "metadata": {}
        }
      ]
    },
    {
      "cell_type": "markdown",
      "metadata": {
        "id": "77fd5441"
      },
      "source": [
        "## Generate code to fetch data\n",
        "\n",
        "### Subtask:\n",
        "Generate code that retrieves the API key from secrets and uses it to fetch weather data from an API.\n"
      ]
    },
    {
      "cell_type": "markdown",
      "metadata": {
        "id": "0fe551df"
      },
      "source": [
        "**Reasoning**:\n",
        "Generate the Python code to retrieve the API key from Colab secrets and use it to fetch weather data from a placeholder API.\n",
        "\n"
      ]
    },
    {
      "cell_type": "code",
      "metadata": {
        "colab": {
          "base_uri": "https://localhost:8080/"
        },
        "id": "c8c52b7d",
        "outputId": "ad1c1fdc-016b-4737-ed51-855c55d935dd"
      },
      "source": [
        "import requests\n",
        "from google.colab import userdata\n",
        "\n",
        "# 3. Define a variable to store the name of the secret\n",
        "WEATHER_API_KEY_NAME = 'WEATHER_API_KEY'\n",
        "\n",
        "# 4. Retrieve the API key from Colab's secrets\n",
        "try:\n",
        "    api_key = userdata.get(WEATHER_API_KEY_NAME)\n",
        "    if not api_key:\n",
        "        raise ValueError(f\"Secret '{WEATHER_API_KEY_NAME}' not found or is empty.\")\n",
        "except Exception as e:\n",
        "    print(f\"Error retrieving API key from Colab secrets: {e}\")\n",
        "    api_key = None # Ensure api_key is None if retrieval fails\n",
        "\n",
        "\n",
        "if api_key:\n",
        "    # 5. Define the base URL for a weather API (placeholder)\n",
        "    # Replace with the actual base URL of the weather API you want to use\n",
        "    BASE_URL = \"https://api.exampleweatherapi.com/data/2.5/weather?\" # THIS IS A PLACEHOLDER URL\n",
        "\n",
        "    # Define the location (e.g., city)\n",
        "    CITY = \"London\" # Example city\n",
        "\n",
        "    # 6. Construct the complete API endpoint URL\n",
        "    # This structure is common, but refer to your API's documentation\n",
        "    complete_url = f\"{BASE_URL}appid={api_key}&q={CITY}\"\n",
        "\n",
        "    # 7. Make an HTTP GET request\n",
        "    try:\n",
        "        response = requests.get(complete_url)\n",
        "\n",
        "        # 8. Check the HTTP response status code\n",
        "        if response.status_code == 200:\n",
        "            # 9. If the request was successful, parse the JSON response\n",
        "            data = response.json()\n",
        "\n",
        "            # 10. Print the retrieved weather data (example - adjust based on API response structure)\n",
        "            # You'll need to inspect the actual JSON response from your API\n",
        "            # For this placeholder, we'll assume a structure\n",
        "            if \"main\" in data and \"weather\" in data:\n",
        "                temperature = data[\"main\"][\"temp\"]\n",
        "                weather_description = data[\"weather\"][0][\"description\"]\n",
        "                print(f\"Weather in {CITY}:\")\n",
        "                print(f\"  Temperature: {temperature}°K (Note: API might return Kelvin, convert as needed)\")\n",
        "                print(f\"  Description: {weather_description}\")\n",
        "            else:\n",
        "                print(\"Could not parse weather data from the API response.\")\n",
        "                print(\"API Response structure:\")\n",
        "                print(data) # Print the raw data to understand its structure\n",
        "\n",
        "        else:\n",
        "            # 11. Include basic error handling for unsuccessful API requests\n",
        "            print(f\"Error fetching weather data: HTTP Status Code {response.status_code}\")\n",
        "            print(f\"Response body: {response.text}\")\n",
        "\n",
        "    except requests.exceptions.RequestException as e:\n",
        "        print(f\"An error occurred during the API request: {e}\")\n",
        "else:\n",
        "    print(\"API key not available. Cannot fetch weather data.\")\n"
      ],
      "execution_count": 3,
      "outputs": [
        {
          "output_type": "stream",
          "name": "stdout",
          "text": [
            "Error retrieving API key from Colab secrets: Secret WEATHER_API_KEY does not exist.\n",
            "API key not available. Cannot fetch weather data.\n"
          ]
        }
      ]
    },
    {
      "cell_type": "code",
      "source": [
        "Task Description #2 (Privacy & Security in File Handling)\n",
        "Task: Use an AI tool to generate a Python script that stores user data (name, email, password) in a file.\n",
        "Analyze: Check if the AI stores sensitive data in plain text or without encryption.\n"
      ],
      "metadata": {
        "id": "zFvxoJ1F_Jrl"
      },
      "execution_count": null,
      "outputs": []
    },
    {
      "cell_type": "code",
      "metadata": {
        "colab": {
          "base_uri": "https://localhost:8080/"
        },
        "id": "49e7dfec",
        "outputId": "d7cd5bab-06ee-4fdb-81ae-cf3a237bc30a"
      },
      "source": [
        "def store_user_data(name, email, password, filename=\"user_data.txt\"):\n",
        "    \"\"\"\n",
        "    Stores user data (name, email, password) in a text file.\n",
        "\n",
        "    Args:\n",
        "        name (str): The user's name.\n",
        "        email (str): The user's email address.\n",
        "        password (str): The user's password.\n",
        "        filename (str): The name of the file to store the data. Defaults to \"user_data.txt\".\n",
        "    \"\"\"\n",
        "    with open(filename, \"a\") as f:\n",
        "        f.write(f\"Name: {name}\\n\")\n",
        "        f.write(f\"Email: {email}\\n\")\n",
        "        f.write(f\"Password: {password}\\n\")\n",
        "        f.write(\"-\" * 20 + \"\\n\") # Separator\n",
        "\n",
        "# Example usage:\n",
        "filename = \"user_data.txt\" # Define filename here\n",
        "store_user_data(\"John Doe\", \"john.doe@example.com\", \"mysecretpassword\", filename)\n",
        "store_user_data(\"Jane Smith\", \"jane.smith@example.com\", \"anotherpassword123\", filename)\n",
        "\n",
        "print(f\"User data stored in {filename}\")"
      ],
      "execution_count": 5,
      "outputs": [
        {
          "output_type": "stream",
          "name": "stdout",
          "text": [
            "User data stored in user_data.txt\n"
          ]
        }
      ]
    },
    {
      "cell_type": "code",
      "source": [
        "Task Description #3 (Transparency in Algorithm Design)\n",
        "Objective: Use AI to generate an Armstrong number checking function with comments and explanations.\n",
        "Instructions:\n",
        "1.\tAsk AI to explain the code line-by-line.\n",
        "2.\tCompare the explanation with code functionality\n"
      ],
      "metadata": {
        "id": "phwkF-Q6_qn0"
      },
      "execution_count": null,
      "outputs": []
    },
    {
      "cell_type": "markdown",
      "source": [],
      "metadata": {
        "id": "cvW48eyH_pFu"
      }
    },
    {
      "cell_type": "code",
      "metadata": {
        "colab": {
          "base_uri": "https://localhost:8080/"
        },
        "id": "3e8b9f3a",
        "outputId": "10693dcc-4138-41ec-80dd-f6b0b3227f8b"
      },
      "source": [
        "def is_armstrong_number(number):\n",
        "    \"\"\"\n",
        "    Checks if a given number is an Armstrong number.\n",
        "\n",
        "    An Armstrong number is a number that is the sum of its own digits\n",
        "    each raised to the power of the number of digits.\n",
        "\n",
        "    Args:\n",
        "        number (int): The number to check.\n",
        "\n",
        "    Returns:\n",
        "        bool: True if the number is an Armstrong number, False otherwise.\n",
        "    \"\"\"\n",
        "    # Convert the number to a string to easily get the number of digits\n",
        "    num_str = str(number)\n",
        "    num_digits = len(num_str)\n",
        "\n",
        "    # Calculate the sum of each digit raised to the power of the number of digits\n",
        "    sum_of_powers = 0\n",
        "    for digit in num_str:\n",
        "        sum_of_powers += int(digit) ** num_digits\n",
        "\n",
        "    # Check if the sum of powers is equal to the original number\n",
        "    return sum_of_powers == number\n",
        "\n",
        "# Example usage:\n",
        "num_to_check = 153\n",
        "if is_armstrong_number(num_to_check):\n",
        "    print(f\"{num_to_check} is an Armstrong number.\")\n",
        "else:\n",
        "    print(f\"{num_to_check} is not an Armstrong number.\")\n",
        "\n",
        "num_to_check = 123\n",
        "if is_armstrong_number(num_to_check):\n",
        "    print(f\"{num_to_check} is an Armstrong number.\")\n",
        "else:\n",
        "    print(f\"{num_to_check} is not an Armstrong number.\")"
      ],
      "execution_count": 6,
      "outputs": [
        {
          "output_type": "stream",
          "name": "stdout",
          "text": [
            "153 is an Armstrong number.\n",
            "123 is not an Armstrong number.\n"
          ]
        }
      ]
    },
    {
      "cell_type": "code",
      "source": [
        "# QuickSort Implementation\n",
        "def quicksort(arr):\n",
        "    \"\"\"\n",
        "    Implements the QuickSort algorithm.\n",
        "\n",
        "    QuickSort is a divide-and-conquer algorithm. It works by selecting a 'pivot'\n",
        "    element from the array and partitioning the other elements into two sub-arrays,\n",
        "    according to whether they are less than or greater than the pivot. The sub-arrays\n",
        "    are then recursively sorted.\n",
        "\n",
        "    Args:\n",
        "        arr (list): The list of elements to be sorted.\n",
        "\n",
        "    Returns:\n",
        "        list: The sorted list.\n",
        "    \"\"\"\n",
        "    # Base case: if the list has 0 or 1 element, it's already sorted\n",
        "    if len(arr) <= 1:\n",
        "        return arr\n",
        "\n",
        "    # Choose a pivot element (here, the last element is chosen)\n",
        "    pivot = arr[-1]\n",
        "\n",
        "    # Partition the array into elements less than, equal to, and greater than the pivot\n",
        "    less = [x for x in arr[:-1] if x <= pivot]\n",
        "    greater = [x for x in arr[:-1] if x > pivot]\n",
        "    equal = [x for x in arr if x == pivot] # Handle duplicates\n",
        "\n",
        "    # Recursively sort the sub-arrays and combine the results\n",
        "    return quicksort(less) + equal + quicksort(greater)\n",
        "\n",
        "# BubbleSort Implementation\n",
        "def bubble_sort(arr):\n",
        "    \"\"\"\n",
        "    Implements the BubbleSort algorithm.\n",
        "\n",
        "    BubbleSort is a simple sorting algorithm that repeatedly steps through the\n",
        "    list, compares adjacent elements and swaps them if they are in the wrong order.\n",
        "    The pass through the list is repeated until the list is sorted.\n",
        "\n",
        "    Args:\n",
        "        arr (list): The list of elements to be sorted.\n",
        "\n",
        "    Returns:\n",
        "        list: The sorted list.\n",
        "    \"\"\"\n",
        "    n = len(arr)\n",
        "    # Traverse through all array elements\n",
        "    for i in range(n):\n",
        "        # Last i elements are already in place\n",
        "        for j in range(0, n - i - 1):\n",
        "            # Traverse the array from 0 to n-i-1\n",
        "            # Swap if the element found is greater than the next element\n",
        "            if arr[j] > arr[j + 1]:\n",
        "                arr[j], arr[j + 1] = arr[j + 1], arr[j]\n",
        "    return arr\n",
        "\n",
        "# Differences between QuickSort and BubbleSort:\n",
        "\n",
        "\"\"\"\n",
        "1.  **Efficiency:** QuickSort is generally much more efficient than BubbleSort\n",
        "    for large datasets. Its average time complexity is O(n log n), while\n",
        "    BubbleSort's is O(n^2).\n",
        "2.  **Algorithm Type:** QuickSort is a divide-and-conquer algorithm, breaking\n",
        "    down the problem into smaller subproblems. BubbleSort is a comparison-based\n",
        "    sorting algorithm that works by repeatedly comparing and swapping adjacent elements.\n",
        "3.  **In-place Sorting:** Both implementations provided are not strictly in-place.\n",
        "    The QuickSort implementation creates new lists for 'less', 'greater', and 'equal'.\n",
        "    The BubbleSort implementation modifies the original list in place. However,\n",
        "    QuickSort can be implemented in-place.\n",
        "4.  **Stability:** BubbleSort is a stable sorting algorithm, meaning that elements\n",
        "    with the same value maintain their relative order in the sorted output. QuickSort,\n",
        "    in its standard implementation, is generally not stable.\n",
        "5.  **Use Cases:** QuickSort is often preferred for general-purpose sorting due to\n",
        "    its speed. BubbleSort is rarely used in practice for large datasets but can be\n",
        "    useful for small lists or for educational purposes due to its simplicity.\n",
        "\"\"\"\n",
        "\n",
        "# Example Usage:\n",
        "my_list_quick = [10, 7, 8, 9, 1, 5]\n",
        "print(\"Original list for QuickSort:\", my_list_quick)\n",
        "print(\"Sorted list using QuickSort:\", quicksort(my_list_quick))\n",
        "\n",
        "my_list_bubble = [10, 7, 8, 9, 1, 5]\n",
        "print(\"Original list for BubbleSort:\", my_list_bubble)\n",
        "print(\"Sorted list using BubbleSort:\", bubble_sort(my_list_bubble))"
      ],
      "metadata": {
        "colab": {
          "base_uri": "https://localhost:8080/"
        },
        "id": "fubrGd8kAfZf",
        "outputId": "51f1c0cf-8b38-420d-9191-d59bd1ace8cc"
      },
      "execution_count": 7,
      "outputs": [
        {
          "output_type": "stream",
          "name": "stdout",
          "text": [
            "Original list for QuickSort: [10, 7, 8, 9, 1, 5]\n",
            "Sorted list using QuickSort: [1, 5, 7, 8, 9, 10]\n",
            "Original list for BubbleSort: [10, 7, 8, 9, 1, 5]\n",
            "Sorted list using BubbleSort: [1, 5, 7, 8, 9, 10]\n"
          ]
        }
      ]
    },
    {
      "cell_type": "markdown",
      "source": [],
      "metadata": {
        "id": "l4myxIvrBHum"
      }
    },
    {
      "cell_type": "code",
      "source": [
        "Task Description #5 (Transparency in AI Recommendations)\n",
        "Task: Use AI to create a product recommendation system.\n",
        "Prompt:\n",
        "\"Generate a recommendation system that also provides reasons for each suggestion.\"\n"
      ],
      "metadata": {
        "id": "GGdeq83bBJ5T"
      },
      "execution_count": null,
      "outputs": []
    },
    {
      "cell_type": "markdown",
      "metadata": {
        "id": "210f9efb"
      },
      "source": [
        "# Task\n",
        "Generate a recommendation system that also provides reasons for each suggestion."
      ]
    },
    {
      "cell_type": "markdown",
      "metadata": {
        "id": "f6bc43f1"
      },
      "source": [
        "## Data loading and preparation\n",
        "\n",
        "### Subtask:\n",
        "Load a dataset suitable for product recommendation (e.g., user-item interactions, product features).\n"
      ]
    },
    {
      "cell_type": "markdown",
      "metadata": {
        "id": "cdeb5700"
      },
      "source": [
        "**Reasoning**:\n",
        "The subtask requires loading a dataset for product recommendation. I will use pandas to load a publicly available dataset suitable for this purpose and then display its head and info to understand its structure.\n",
        "\n"
      ]
    },
    {
      "cell_type": "code",
      "metadata": {
        "colab": {
          "base_uri": "https://localhost:8080/",
          "height": 713
        },
        "id": "d6809e2c",
        "outputId": "6d463b1e-b55e-4e7a-c8a5-81c0ea461222"
      },
      "source": [
        "import pandas as pd\n",
        "\n",
        "# Load a suitable dataset. Using a well-known public dataset for demonstration.\n",
        "# For example, the MovieLens 100k dataset, which contains user ratings of movies.\n",
        "# In a real scenario, you would replace this with your actual dataset.\n",
        "# Due to the nature of this environment, I'll use a placeholder or a small built-in dataset if available,\n",
        "# or simulate one if no suitable public dataset is readily accessible in this environment.\n",
        "\n",
        "# Let's simulate a small dataset for demonstration purposes.\n",
        "# In a real application, you would read from a file or database.\n",
        "data = {'user_id': [1, 1, 1, 2, 2, 3, 3, 3, 3],\n",
        "        'item_id': [101, 102, 103, 101, 104, 102, 103, 104, 105],\n",
        "        'rating': [5, 4, 3, 5, 4, 5, 4, 3, 5],\n",
        "        'timestamp': [1634567890, 1634567901, 1634567912, 1634567923, 1634567934, 1634567945, 1634567956, 1634567967, 1634567978]}\n",
        "df = pd.DataFrame(data)\n",
        "\n",
        "\n",
        "# Display the first few rows\n",
        "display(df.head())\n",
        "\n",
        "# Display information about the DataFrame\n",
        "display(df.info())"
      ],
      "execution_count": 8,
      "outputs": [
        {
          "output_type": "display_data",
          "data": {
            "text/plain": [
              "   user_id  item_id  rating   timestamp\n",
              "0        1      101       5  1634567890\n",
              "1        1      102       4  1634567901\n",
              "2        1      103       3  1634567912\n",
              "3        2      101       5  1634567923\n",
              "4        2      104       4  1634567934"
            ],
            "text/html": [
              "\n",
              "  <div id=\"df-e8074cd1-3e80-49dd-ab47-3a634b53e9dc\" class=\"colab-df-container\">\n",
              "    <div>\n",
              "<style scoped>\n",
              "    .dataframe tbody tr th:only-of-type {\n",
              "        vertical-align: middle;\n",
              "    }\n",
              "\n",
              "    .dataframe tbody tr th {\n",
              "        vertical-align: top;\n",
              "    }\n",
              "\n",
              "    .dataframe thead th {\n",
              "        text-align: right;\n",
              "    }\n",
              "</style>\n",
              "<table border=\"1\" class=\"dataframe\">\n",
              "  <thead>\n",
              "    <tr style=\"text-align: right;\">\n",
              "      <th></th>\n",
              "      <th>user_id</th>\n",
              "      <th>item_id</th>\n",
              "      <th>rating</th>\n",
              "      <th>timestamp</th>\n",
              "    </tr>\n",
              "  </thead>\n",
              "  <tbody>\n",
              "    <tr>\n",
              "      <th>0</th>\n",
              "      <td>1</td>\n",
              "      <td>101</td>\n",
              "      <td>5</td>\n",
              "      <td>1634567890</td>\n",
              "    </tr>\n",
              "    <tr>\n",
              "      <th>1</th>\n",
              "      <td>1</td>\n",
              "      <td>102</td>\n",
              "      <td>4</td>\n",
              "      <td>1634567901</td>\n",
              "    </tr>\n",
              "    <tr>\n",
              "      <th>2</th>\n",
              "      <td>1</td>\n",
              "      <td>103</td>\n",
              "      <td>3</td>\n",
              "      <td>1634567912</td>\n",
              "    </tr>\n",
              "    <tr>\n",
              "      <th>3</th>\n",
              "      <td>2</td>\n",
              "      <td>101</td>\n",
              "      <td>5</td>\n",
              "      <td>1634567923</td>\n",
              "    </tr>\n",
              "    <tr>\n",
              "      <th>4</th>\n",
              "      <td>2</td>\n",
              "      <td>104</td>\n",
              "      <td>4</td>\n",
              "      <td>1634567934</td>\n",
              "    </tr>\n",
              "  </tbody>\n",
              "</table>\n",
              "</div>\n",
              "    <div class=\"colab-df-buttons\">\n",
              "\n",
              "  <div class=\"colab-df-container\">\n",
              "    <button class=\"colab-df-convert\" onclick=\"convertToInteractive('df-e8074cd1-3e80-49dd-ab47-3a634b53e9dc')\"\n",
              "            title=\"Convert this dataframe to an interactive table.\"\n",
              "            style=\"display:none;\">\n",
              "\n",
              "  <svg xmlns=\"http://www.w3.org/2000/svg\" height=\"24px\" viewBox=\"0 -960 960 960\">\n",
              "    <path d=\"M120-120v-720h720v720H120Zm60-500h600v-160H180v160Zm220 220h160v-160H400v160Zm0 220h160v-160H400v160ZM180-400h160v-160H180v160Zm440 0h160v-160H620v160ZM180-180h160v-160H180v160Zm440 0h160v-160H620v160Z\"/>\n",
              "  </svg>\n",
              "    </button>\n",
              "\n",
              "  <style>\n",
              "    .colab-df-container {\n",
              "      display:flex;\n",
              "      gap: 12px;\n",
              "    }\n",
              "\n",
              "    .colab-df-convert {\n",
              "      background-color: #E8F0FE;\n",
              "      border: none;\n",
              "      border-radius: 50%;\n",
              "      cursor: pointer;\n",
              "      display: none;\n",
              "      fill: #1967D2;\n",
              "      height: 32px;\n",
              "      padding: 0 0 0 0;\n",
              "      width: 32px;\n",
              "    }\n",
              "\n",
              "    .colab-df-convert:hover {\n",
              "      background-color: #E2EBFA;\n",
              "      box-shadow: 0px 1px 2px rgba(60, 64, 67, 0.3), 0px 1px 3px 1px rgba(60, 64, 67, 0.15);\n",
              "      fill: #174EA6;\n",
              "    }\n",
              "\n",
              "    .colab-df-buttons div {\n",
              "      margin-bottom: 4px;\n",
              "    }\n",
              "\n",
              "    [theme=dark] .colab-df-convert {\n",
              "      background-color: #3B4455;\n",
              "      fill: #D2E3FC;\n",
              "    }\n",
              "\n",
              "    [theme=dark] .colab-df-convert:hover {\n",
              "      background-color: #434B5C;\n",
              "      box-shadow: 0px 1px 3px 1px rgba(0, 0, 0, 0.15);\n",
              "      filter: drop-shadow(0px 1px 2px rgba(0, 0, 0, 0.3));\n",
              "      fill: #FFFFFF;\n",
              "    }\n",
              "  </style>\n",
              "\n",
              "    <script>\n",
              "      const buttonEl =\n",
              "        document.querySelector('#df-e8074cd1-3e80-49dd-ab47-3a634b53e9dc button.colab-df-convert');\n",
              "      buttonEl.style.display =\n",
              "        google.colab.kernel.accessAllowed ? 'block' : 'none';\n",
              "\n",
              "      async function convertToInteractive(key) {\n",
              "        const element = document.querySelector('#df-e8074cd1-3e80-49dd-ab47-3a634b53e9dc');\n",
              "        const dataTable =\n",
              "          await google.colab.kernel.invokeFunction('convertToInteractive',\n",
              "                                                    [key], {});\n",
              "        if (!dataTable) return;\n",
              "\n",
              "        const docLinkHtml = 'Like what you see? Visit the ' +\n",
              "          '<a target=\"_blank\" href=https://colab.research.google.com/notebooks/data_table.ipynb>data table notebook</a>'\n",
              "          + ' to learn more about interactive tables.';\n",
              "        element.innerHTML = '';\n",
              "        dataTable['output_type'] = 'display_data';\n",
              "        await google.colab.output.renderOutput(dataTable, element);\n",
              "        const docLink = document.createElement('div');\n",
              "        docLink.innerHTML = docLinkHtml;\n",
              "        element.appendChild(docLink);\n",
              "      }\n",
              "    </script>\n",
              "  </div>\n",
              "\n",
              "\n",
              "    <div id=\"df-2c5806d4-1c08-4a14-b956-61f732ab43cd\">\n",
              "      <button class=\"colab-df-quickchart\" onclick=\"quickchart('df-2c5806d4-1c08-4a14-b956-61f732ab43cd')\"\n",
              "                title=\"Suggest charts\"\n",
              "                style=\"display:none;\">\n",
              "\n",
              "<svg xmlns=\"http://www.w3.org/2000/svg\" height=\"24px\"viewBox=\"0 0 24 24\"\n",
              "     width=\"24px\">\n",
              "    <g>\n",
              "        <path d=\"M19 3H5c-1.1 0-2 .9-2 2v14c0 1.1.9 2 2 2h14c1.1 0 2-.9 2-2V5c0-1.1-.9-2-2-2zM9 17H7v-7h2v7zm4 0h-2V7h2v10zm4 0h-2v-4h2v4z\"/>\n",
              "    </g>\n",
              "</svg>\n",
              "      </button>\n",
              "\n",
              "<style>\n",
              "  .colab-df-quickchart {\n",
              "      --bg-color: #E8F0FE;\n",
              "      --fill-color: #1967D2;\n",
              "      --hover-bg-color: #E2EBFA;\n",
              "      --hover-fill-color: #174EA6;\n",
              "      --disabled-fill-color: #AAA;\n",
              "      --disabled-bg-color: #DDD;\n",
              "  }\n",
              "\n",
              "  [theme=dark] .colab-df-quickchart {\n",
              "      --bg-color: #3B4455;\n",
              "      --fill-color: #D2E3FC;\n",
              "      --hover-bg-color: #434B5C;\n",
              "      --hover-fill-color: #FFFFFF;\n",
              "      --disabled-bg-color: #3B4455;\n",
              "      --disabled-fill-color: #666;\n",
              "  }\n",
              "\n",
              "  .colab-df-quickchart {\n",
              "    background-color: var(--bg-color);\n",
              "    border: none;\n",
              "    border-radius: 50%;\n",
              "    cursor: pointer;\n",
              "    display: none;\n",
              "    fill: var(--fill-color);\n",
              "    height: 32px;\n",
              "    padding: 0;\n",
              "    width: 32px;\n",
              "  }\n",
              "\n",
              "  .colab-df-quickchart:hover {\n",
              "    background-color: var(--hover-bg-color);\n",
              "    box-shadow: 0 1px 2px rgba(60, 64, 67, 0.3), 0 1px 3px 1px rgba(60, 64, 67, 0.15);\n",
              "    fill: var(--button-hover-fill-color);\n",
              "  }\n",
              "\n",
              "  .colab-df-quickchart-complete:disabled,\n",
              "  .colab-df-quickchart-complete:disabled:hover {\n",
              "    background-color: var(--disabled-bg-color);\n",
              "    fill: var(--disabled-fill-color);\n",
              "    box-shadow: none;\n",
              "  }\n",
              "\n",
              "  .colab-df-spinner {\n",
              "    border: 2px solid var(--fill-color);\n",
              "    border-color: transparent;\n",
              "    border-bottom-color: var(--fill-color);\n",
              "    animation:\n",
              "      spin 1s steps(1) infinite;\n",
              "  }\n",
              "\n",
              "  @keyframes spin {\n",
              "    0% {\n",
              "      border-color: transparent;\n",
              "      border-bottom-color: var(--fill-color);\n",
              "      border-left-color: var(--fill-color);\n",
              "    }\n",
              "    20% {\n",
              "      border-color: transparent;\n",
              "      border-left-color: var(--fill-color);\n",
              "      border-top-color: var(--fill-color);\n",
              "    }\n",
              "    30% {\n",
              "      border-color: transparent;\n",
              "      border-left-color: var(--fill-color);\n",
              "      border-top-color: var(--fill-color);\n",
              "      border-right-color: var(--fill-color);\n",
              "    }\n",
              "    40% {\n",
              "      border-color: transparent;\n",
              "      border-right-color: var(--fill-color);\n",
              "      border-top-color: var(--fill-color);\n",
              "    }\n",
              "    60% {\n",
              "      border-color: transparent;\n",
              "      border-right-color: var(--fill-color);\n",
              "    }\n",
              "    80% {\n",
              "      border-color: transparent;\n",
              "      border-right-color: var(--fill-color);\n",
              "      border-bottom-color: var(--fill-color);\n",
              "    }\n",
              "    90% {\n",
              "      border-color: transparent;\n",
              "      border-bottom-color: var(--fill-color);\n",
              "    }\n",
              "  }\n",
              "</style>\n",
              "\n",
              "      <script>\n",
              "        async function quickchart(key) {\n",
              "          const quickchartButtonEl =\n",
              "            document.querySelector('#' + key + ' button');\n",
              "          quickchartButtonEl.disabled = true;  // To prevent multiple clicks.\n",
              "          quickchartButtonEl.classList.add('colab-df-spinner');\n",
              "          try {\n",
              "            const charts = await google.colab.kernel.invokeFunction(\n",
              "                'suggestCharts', [key], {});\n",
              "          } catch (error) {\n",
              "            console.error('Error during call to suggestCharts:', error);\n",
              "          }\n",
              "          quickchartButtonEl.classList.remove('colab-df-spinner');\n",
              "          quickchartButtonEl.classList.add('colab-df-quickchart-complete');\n",
              "        }\n",
              "        (() => {\n",
              "          let quickchartButtonEl =\n",
              "            document.querySelector('#df-2c5806d4-1c08-4a14-b956-61f732ab43cd button');\n",
              "          quickchartButtonEl.style.display =\n",
              "            google.colab.kernel.accessAllowed ? 'block' : 'none';\n",
              "        })();\n",
              "      </script>\n",
              "    </div>\n",
              "\n",
              "    </div>\n",
              "  </div>\n"
            ],
            "application/vnd.google.colaboratory.intrinsic+json": {
              "type": "dataframe",
              "summary": "{\n  \"name\": \"display(df\",\n  \"rows\": 5,\n  \"fields\": [\n    {\n      \"column\": \"user_id\",\n      \"properties\": {\n        \"dtype\": \"number\",\n        \"std\": 0,\n        \"min\": 1,\n        \"max\": 2,\n        \"num_unique_values\": 2,\n        \"samples\": [\n          2,\n          1\n        ],\n        \"semantic_type\": \"\",\n        \"description\": \"\"\n      }\n    },\n    {\n      \"column\": \"item_id\",\n      \"properties\": {\n        \"dtype\": \"number\",\n        \"std\": 1,\n        \"min\": 101,\n        \"max\": 104,\n        \"num_unique_values\": 4,\n        \"samples\": [\n          102,\n          104\n        ],\n        \"semantic_type\": \"\",\n        \"description\": \"\"\n      }\n    },\n    {\n      \"column\": \"rating\",\n      \"properties\": {\n        \"dtype\": \"number\",\n        \"std\": 0,\n        \"min\": 3,\n        \"max\": 5,\n        \"num_unique_values\": 3,\n        \"samples\": [\n          5,\n          4\n        ],\n        \"semantic_type\": \"\",\n        \"description\": \"\"\n      }\n    },\n    {\n      \"column\": \"timestamp\",\n      \"properties\": {\n        \"dtype\": \"number\",\n        \"std\": 17,\n        \"min\": 1634567890,\n        \"max\": 1634567934,\n        \"num_unique_values\": 5,\n        \"samples\": [\n          1634567901,\n          1634567934\n        ],\n        \"semantic_type\": \"\",\n        \"description\": \"\"\n      }\n    }\n  ]\n}"
            }
          },
          "metadata": {}
        },
        {
          "output_type": "stream",
          "name": "stdout",
          "text": [
            "<class 'pandas.core.frame.DataFrame'>\n",
            "RangeIndex: 9 entries, 0 to 8\n",
            "Data columns (total 4 columns):\n",
            " #   Column     Non-Null Count  Dtype\n",
            "---  ------     --------------  -----\n",
            " 0   user_id    9 non-null      int64\n",
            " 1   item_id    9 non-null      int64\n",
            " 2   rating     9 non-null      int64\n",
            " 3   timestamp  9 non-null      int64\n",
            "dtypes: int64(4)\n",
            "memory usage: 420.0 bytes\n"
          ]
        },
        {
          "output_type": "display_data",
          "data": {
            "text/plain": [
              "None"
            ]
          },
          "metadata": {}
        }
      ]
    },
    {
      "cell_type": "markdown",
      "metadata": {
        "id": "53db4ce7"
      },
      "source": [
        "## Choose and implement a recommendation algorithm\n",
        "\n",
        "### Subtask:\n",
        "Select a recommendation algorithm (e.g., collaborative filtering, content-based filtering) and implement it.\n"
      ]
    },
    {
      "cell_type": "markdown",
      "metadata": {
        "id": "077b1ba5"
      },
      "source": [
        "**Reasoning**:\n",
        "Implement a basic user-based collaborative filtering algorithm to calculate user similarity and predict ratings.\n",
        "\n"
      ]
    },
    {
      "cell_type": "code",
      "metadata": {
        "colab": {
          "base_uri": "https://localhost:8080/"
        },
        "id": "91a554fe",
        "outputId": "3174428e-04b7-4bb2-ad81-477795438a01"
      },
      "source": [
        "from sklearn.metrics.pairwise import cosine_similarity\n",
        "import numpy as np\n",
        "\n",
        "class UserBasedRecommendation:\n",
        "    def __init__(self, dataframe):\n",
        "        self.df = dataframe\n",
        "        self.user_item_matrix = self.create_user_item_matrix()\n",
        "        self.user_similarity = self.calculate_user_similarity()\n",
        "\n",
        "    def create_user_item_matrix(self):\n",
        "        \"\"\"Creates a user-item matrix from the dataframe.\"\"\"\n",
        "        # Pivot the dataframe to create a user-item matrix\n",
        "        # Fill NaN values with 0 as we assume missing ratings are 0 for similarity calculation\n",
        "        user_item_matrix = self.df.pivot_table(index='user_id', columns='item_id', values='rating').fillna(0)\n",
        "        return user_item_matrix\n",
        "\n",
        "    def calculate_user_similarity(self):\n",
        "        \"\"\"Calculates cosine similarity between users.\"\"\"\n",
        "        # Calculate cosine similarity between rows (users)\n",
        "        user_similarity = cosine_similarity(self.user_item_matrix)\n",
        "        # Convert to a DataFrame for easier handling, with user_ids as index and columns\n",
        "        user_similarity_df = pd.DataFrame(user_similarity, index=self.user_item_matrix.index, columns=self.user_item_matrix.index)\n",
        "        return user_similarity_df\n",
        "\n",
        "    def predict_rating(self, user_id, item_id):\n",
        "        \"\"\"Predicts the rating for a given user and item using user-based collaborative filtering.\"\"\"\n",
        "        if item_id not in self.user_item_matrix.columns:\n",
        "            return None # Cannot predict for unseen items\n",
        "\n",
        "        # Get the similarity scores for the target user\n",
        "        similarities = self.user_similarity[user_id]\n",
        "\n",
        "        # Get the ratings of other users for the target item\n",
        "        item_ratings = self.user_item_matrix[item_id]\n",
        "\n",
        "        # Find users who have rated the target item (excluding the target user if they rated it)\n",
        "        # and have a similarity score > 0\n",
        "        valid_users = item_ratings[item_ratings > 0].index\n",
        "        valid_users = valid_users[valid_users != user_id] # Exclude the target user\n",
        "\n",
        "        if valid_users.empty:\n",
        "            return self.user_item_matrix.loc[user_id].mean() if user_id in self.user_item_matrix.index else None # Return user's average rating if no similar users, or None\n",
        "\n",
        "        # Get similarity scores and ratings for valid users\n",
        "        valid_similarities = similarities.loc[valid_users]\n",
        "        valid_item_ratings = item_ratings.loc[valid_users]\n",
        "\n",
        "        # Calculate weighted sum of ratings from similar users\n",
        "        # Weighted sum = sum (similarity * rating)\n",
        "        # Sum of weights = sum (similarity)\n",
        "        weighted_sum = np.sum(valid_similarities * valid_item_ratings)\n",
        "        sum_of_weights = np.sum(np.abs(valid_similarities)) # Use absolute similarity for sum of weights\n",
        "\n",
        "        if sum_of_weights == 0:\n",
        "            return self.user_item_matrix.loc[user_id].mean() if user_id in self.user_item_matrix.index else None # Avoid division by zero, return user's average rating\n",
        "\n",
        "        predicted_rating = weighted_sum / sum_of_weights\n",
        "\n",
        "        # Optional: Adjust prediction based on user's average rating (centering)\n",
        "        # This can improve accuracy by accounting for user rating biases\n",
        "        # user_avg_rating = self.user_item_matrix.loc[user_id].mean()\n",
        "        # weighted_avg_ratings_of_similar_users = (valid_similarities * (valid_item_ratings - self.user_item_matrix.loc[valid_users].mean(axis=1))).sum() / sum_of_weights\n",
        "        # predicted_rating = user_avg_rating + weighted_avg_ratings_of_similar_users\n",
        "\n",
        "\n",
        "        # Ensure predicted rating is within the valid range (e.g., 1-5)\n",
        "        predicted_rating = max(1, min(5, predicted_rating)) if predicted_rating is not None else None\n",
        "\n",
        "\n",
        "        return predicted_rating\n",
        "\n",
        "\n",
        "    def get_recommendations(self, user_id, n=5):\n",
        "        \"\"\"Gets top N item recommendations for a user.\"\"\"\n",
        "        if user_id not in self.user_item_matrix.index:\n",
        "            return [] # User not in the dataset\n",
        "\n",
        "        # Get items the user has not rated\n",
        "        user_rated_items = self.user_item_matrix.loc[user_id][self.user_item_matrix.loc[user_id] > 0].index\n",
        "        all_items = self.user_item_matrix.columns\n",
        "        items_to_predict = all_items.difference(user_rated_items)\n",
        "\n",
        "        # Predict ratings for unrated items\n",
        "        predictions = {}\n",
        "        for item_id in items_to_predict:\n",
        "            predicted_rating = self.predict_rating(user_id, item_id)\n",
        "            if predicted_rating is not None:\n",
        "                predictions[item_id] = predicted_rating\n",
        "\n",
        "        # Sort items by predicted rating in descending order\n",
        "        recommended_items = sorted(predictions.items(), key=lambda item: item[1], reverse=True)\n",
        "\n",
        "        # Return top N recommended items\n",
        "        return recommended_items[:n]\n",
        "\n",
        "# Example Usage:\n",
        "# Initialize the recommender with the dataframe\n",
        "recommender = UserBasedRecommendation(df)\n",
        "\n",
        "# Get recommendations for a specific user (e.g., user with user_id 1)\n",
        "user_id_to_recommend = 1\n",
        "recommendations = recommender.get_recommendations(user_id_to_recommend, n=2)\n",
        "\n",
        "print(f\"Recommendations for User {user_id_to_recommend}:\")\n",
        "for item_id, predicted_rating in recommendations:\n",
        "    print(f\"  Item ID: {item_id}, Predicted Rating: {predicted_rating:.2f}\")\n"
      ],
      "execution_count": 9,
      "outputs": [
        {
          "output_type": "stream",
          "name": "stdout",
          "text": [
            "Recommendations for User 1:\n",
            "  Item ID: 105, Predicted Rating: 5.00\n",
            "  Item ID: 104, Predicted Rating: 3.51\n"
          ]
        }
      ]
    },
    {
      "cell_type": "markdown",
      "metadata": {
        "id": "c3435f6a"
      },
      "source": [
        "## Generate recommendations\n",
        "\n",
        "### Subtask:\n",
        "Use the implemented algorithm to generate product recommendations for a given user.\n"
      ]
    },
    {
      "cell_type": "markdown",
      "metadata": {
        "id": "02fb3ac0"
      },
      "source": [
        "**Reasoning**:\n",
        "Use the instantiated recommender object to generate recommendations for the specified user and print the results.\n",
        "\n"
      ]
    },
    {
      "cell_type": "code",
      "metadata": {
        "colab": {
          "base_uri": "https://localhost:8080/"
        },
        "id": "38ead6af",
        "outputId": "3d36b889-d7dc-43ed-82f8-b7cb1ed05b91"
      },
      "source": [
        "# Use the previously instantiated recommender object\n",
        "# recommender = UserBasedRecommendation(df) # This object was already created in the previous step\n",
        "\n",
        "# Call the get_recommendations() method to get recommendations for user_id_to_recommend (which is 1)\n",
        "user_id_to_recommend = 1\n",
        "n = 2 # Number of recommendations\n",
        "recommendations = recommender.get_recommendations(user_id_to_recommend, n=n)\n",
        "\n",
        "# Print the recommendations for the specified user\n",
        "print(f\"Recommendations for User {user_id_to_recommend}:\")\n",
        "if recommendations:\n",
        "    for item_id, predicted_rating in recommendations:\n",
        "        print(f\"  Item ID: {item_id}, Predicted Rating: {predicted_rating:.2f}\")\n",
        "else:\n",
        "    print(\"  No recommendations found.\")"
      ],
      "execution_count": 10,
      "outputs": [
        {
          "output_type": "stream",
          "name": "stdout",
          "text": [
            "Recommendations for User 1:\n",
            "  Item ID: 105, Predicted Rating: 5.00\n",
            "  Item ID: 104, Predicted Rating: 3.51\n"
          ]
        }
      ]
    },
    {
      "cell_type": "markdown",
      "metadata": {
        "id": "c2caf97a"
      },
      "source": [
        "## Generate explanations for recommendations\n",
        "\n",
        "### Subtask:\n",
        "Develop a method to provide reasons for each recommendation. This could involve identifying the factors that led to the recommendation (e.g., similar users, product features).\n"
      ]
    },
    {
      "cell_type": "markdown",
      "metadata": {
        "id": "4acaf640"
      },
      "source": [
        "**Reasoning**:\n",
        "Modify the UserBasedRecommendation class to include a method for generating explanations for recommendations based on similar users and their ratings.\n",
        "\n"
      ]
    },
    {
      "cell_type": "code",
      "metadata": {
        "colab": {
          "base_uri": "https://localhost:8080/"
        },
        "id": "a8dd051a",
        "outputId": "15062be5-4895-455f-da03-9b51e7459a7b"
      },
      "source": [
        "from sklearn.metrics.pairwise import cosine_similarity\n",
        "import numpy as np\n",
        "import pandas as pd\n",
        "\n",
        "class UserBasedRecommendation:\n",
        "    def __init__(self, dataframe):\n",
        "        self.df = dataframe\n",
        "        self.user_item_matrix = self.create_user_item_matrix()\n",
        "        self.user_similarity = self.calculate_user_similarity()\n",
        "\n",
        "    def create_user_item_matrix(self):\n",
        "        \"\"\"Creates a user-item matrix from the dataframe.\"\"\"\n",
        "        user_item_matrix = self.df.pivot_table(index='user_id', columns='item_id', values='rating').fillna(0)\n",
        "        return user_item_matrix\n",
        "\n",
        "    def calculate_user_similarity(self):\n",
        "        \"\"\"Calculates cosine similarity between users.\"\"\"\n",
        "        user_similarity = cosine_similarity(self.user_item_matrix)\n",
        "        user_similarity_df = pd.DataFrame(user_similarity, index=self.user_item_matrix.index, columns=self.user_item_matrix.index)\n",
        "        return user_similarity_df\n",
        "\n",
        "    def predict_rating(self, user_id, item_id):\n",
        "        \"\"\"Predicts the rating for a given user and item using user-based collaborative filtering.\"\"\"\n",
        "        if item_id not in self.user_item_matrix.columns:\n",
        "            return None\n",
        "\n",
        "        similarities = self.user_similarity[user_id]\n",
        "        item_ratings = self.user_item_matrix[item_id]\n",
        "\n",
        "        valid_users = item_ratings[item_ratings > 0].index\n",
        "        valid_users = valid_users[valid_users != user_id]\n",
        "\n",
        "        if valid_users.empty:\n",
        "            return self.user_item_matrix.loc[user_id].mean() if user_id in self.user_item_matrix.index else None\n",
        "\n",
        "        valid_similarities = similarities.loc[valid_users]\n",
        "        valid_item_ratings = item_ratings.loc[valid_users]\n",
        "\n",
        "        weighted_sum = np.sum(valid_similarities * valid_item_ratings)\n",
        "        sum_of_weights = np.sum(np.abs(valid_similarities))\n",
        "\n",
        "        if sum_of_weights == 0:\n",
        "            return self.user_item_matrix.loc[user_id].mean() if user_id in self.user_item_matrix.index else None\n",
        "\n",
        "        predicted_rating = weighted_sum / sum_of_weights\n",
        "        predicted_rating = max(1, min(5, predicted_rating)) if predicted_rating is not None else None\n",
        "\n",
        "        return predicted_rating\n",
        "\n",
        "    def get_recommendations(self, user_id, n=5):\n",
        "        \"\"\"Gets top N item recommendations for a user.\"\"\"\n",
        "        if user_id not in self.user_item_matrix.index:\n",
        "            return []\n",
        "\n",
        "        user_rated_items = self.user_item_matrix.loc[user_id][self.user_item_matrix.loc[user_id] > 0].index\n",
        "        all_items = self.user_item_matrix.columns\n",
        "        items_to_predict = all_items.difference(user_rated_items)\n",
        "\n",
        "        predictions = {}\n",
        "        for item_id in items_to_predict:\n",
        "            predicted_rating = self.predict_rating(user_id, item_id)\n",
        "            if predicted_rating is not None:\n",
        "                predictions[item_id] = predicted_rating\n",
        "\n",
        "        recommended_items = sorted(predictions.items(), key=lambda item: item[1], reverse=True)\n",
        "\n",
        "        return recommended_items[:n]\n",
        "\n",
        "    def explain_recommendation(self, user_id, recommended_item_id, num_similar_users=3):\n",
        "        \"\"\"\n",
        "        Generates an explanation for a recommendation based on similar users.\n",
        "\n",
        "        Args:\n",
        "            user_id (int): The ID of the user for whom the recommendation was made.\n",
        "            recommended_item_id (int): The ID of the recommended item.\n",
        "            num_similar_users (int): The number of top similar users to include in the explanation.\n",
        "\n",
        "        Returns:\n",
        "            str: A human-readable explanation string, or None if no explanation can be generated.\n",
        "        \"\"\"\n",
        "        if user_id not in self.user_item_matrix.index or recommended_item_id not in self.user_item_matrix.columns:\n",
        "            return \"Cannot generate explanation: User or item not found.\"\n",
        "\n",
        "        # Get the similarity scores for the target user, excluding the user themselves\n",
        "        similarities = self.user_similarity[user_id].drop(user_id)\n",
        "\n",
        "        # Get the ratings of other users for the recommended item\n",
        "        item_ratings = self.user_item_matrix[recommended_item_id]\n",
        "\n",
        "        # Find users who have rated the recommended item and have a positive rating\n",
        "        users_who_rated_item = item_ratings[item_ratings > 0].index\n",
        "\n",
        "        # Find similar users who have also rated the recommended item\n",
        "        similar_users_who_rated = similarities.loc[similarities.index.intersection(users_who_rated_item)]\n",
        "\n",
        "        if similar_users_who_rated.empty:\n",
        "            return f\"No similar users who rated Item {recommended_item_id} were found to generate an explanation.\"\n",
        "\n",
        "        # Sort similar users by similarity in descending order and take the top N\n",
        "        top_similar_users = similar_users_who_rated.sort_values(ascending=False).head(num_similar_users)\n",
        "\n",
        "        if top_similar_users.empty:\n",
        "             return f\"Could not find top similar users who rated Item {recommended_item_id}.\"\n",
        "\n",
        "\n",
        "        # Construct the explanation string\n",
        "        explanation_parts = []\n",
        "        for sim_user_id, similarity_score in top_similar_users.items():\n",
        "            rating = self.user_item_matrix.loc[sim_user_id, recommended_item_id]\n",
        "            explanation_parts.append(f\"User {sim_user_id} (similarity {similarity_score:.2f}) rated it {int(rating)}\")\n",
        "\n",
        "        explanation = f\"Because users similar to you ({', '.join(explanation_parts)}) rated this item highly.\"\n",
        "\n",
        "        return explanation\n",
        "\n",
        "# Re-initialize the recommender with the updated class\n",
        "recommender = UserBasedRecommendation(df)\n",
        "\n",
        "# Example usage of the new explanation method\n",
        "# Assuming 'recommendations' from the previous step is available and not empty\n",
        "if recommendations:\n",
        "    first_recommended_item_id = recommendations[0][0]\n",
        "    explanation = recommender.explain_recommendation(user_id_to_recommend, first_recommended_item_id, num_similar_users=2)\n",
        "    print(f\"\\nExplanation for recommending Item {first_recommended_item_id} to User {user_id_to_recommend}:\")\n",
        "    print(explanation)\n",
        "else:\n",
        "    print(\"\\nNo recommendations were generated in the previous step to explain.\")\n"
      ],
      "execution_count": 11,
      "outputs": [
        {
          "output_type": "stream",
          "name": "stdout",
          "text": [
            "\n",
            "Explanation for recommending Item 105 to User 1:\n",
            "Because users similar to you (User 3 (similarity 0.52) rated it 5) rated this item highly.\n"
          ]
        }
      ]
    },
    {
      "cell_type": "markdown",
      "metadata": {
        "id": "821bd34c"
      },
      "source": [
        "## Present recommendations with explanations\n",
        "\n",
        "### Subtask:\n",
        "Display the generated recommendations along with their corresponding reasons.\n"
      ]
    },
    {
      "cell_type": "markdown",
      "metadata": {
        "id": "89ad92b5"
      },
      "source": [
        "**Reasoning**:\n",
        "Iterate through the generated recommendations and print each item's ID, predicted rating, and the explanation generated by the `explain_recommendation` method.\n",
        "\n"
      ]
    },
    {
      "cell_type": "code",
      "metadata": {
        "colab": {
          "base_uri": "https://localhost:8080/"
        },
        "id": "ca2147d8",
        "outputId": "293fdf32-b3e2-43c5-8b52-182dd4365c9e"
      },
      "source": [
        "# Assuming 'recommendations' is available from the previous step and is a list of (item_id, predicted_rating) tuples.\n",
        "# Assuming 'recommender' object is instantiated from the UserBasedRecommendation class with the explain_recommendation method.\n",
        "\n",
        "print(f\"\\nRecommendations and Explanations for User {user_id_to_recommend}:\")\n",
        "\n",
        "if recommendations:\n",
        "    for item_id, predicted_rating in recommendations:\n",
        "        # Generate the explanation for the current recommended item\n",
        "        explanation = recommender.explain_recommendation(user_id_to_recommend, item_id)\n",
        "\n",
        "        # Print the recommendation details and the explanation\n",
        "        print(f\"  Item ID: {item_id}, Predicted Rating: {predicted_rating:.2f}\")\n",
        "        print(f\"    Explanation: {explanation}\")\n",
        "else:\n",
        "    print(\"  No recommendations were generated.\")"
      ],
      "execution_count": 12,
      "outputs": [
        {
          "output_type": "stream",
          "name": "stdout",
          "text": [
            "\n",
            "Recommendations and Explanations for User 1:\n",
            "  Item ID: 105, Predicted Rating: 5.00\n",
            "    Explanation: Because users similar to you (User 3 (similarity 0.52) rated it 5) rated this item highly.\n",
            "  Item ID: 104, Predicted Rating: 3.51\n",
            "    Explanation: Because users similar to you (User 2 (similarity 0.55) rated it 4, User 3 (similarity 0.52) rated it 3) rated this item highly.\n"
          ]
        }
      ]
    },
    {
      "cell_type": "code",
      "source": [
        "Task Description #6 (Transparent Code Generation)\n",
        "Task: Ask AI to generate a Python function for calculating factorial using recursion.\n",
        "Prompt:\n",
        "\"Generate a recursive factorial function with comments that explain each line and a final summary of the algorithm’s flow.\"\n"
      ],
      "metadata": {
        "id": "64Yp6LSvB0wL"
      },
      "execution_count": null,
      "outputs": []
    },
    {
      "cell_type": "code",
      "metadata": {
        "colab": {
          "base_uri": "https://localhost:8080/"
        },
        "id": "ad09d444",
        "outputId": "ed114cab-1cc5-4dc9-c4f6-23c6ae3433ea"
      },
      "source": [
        "def recursive_factorial(n):\n",
        "    \"\"\"\n",
        "    Calculates the factorial of a non-negative integer using recursion.\n",
        "\n",
        "    Args:\n",
        "        n (int): The non-negative integer for which to calculate the factorial.\n",
        "\n",
        "    Returns:\n",
        "        int: The factorial of n.\n",
        "    \"\"\"\n",
        "    # Base case: The factorial of 0 or 1 is 1. This stops the recursion.\n",
        "    if n == 0 or n == 1:\n",
        "        # Return 1 for the base case.\n",
        "        return 1\n",
        "    else:\n",
        "        # Recursive step: The factorial of n is n multiplied by the factorial of n-1.\n",
        "        # This line calls the function itself with a smaller argument (n-1),\n",
        "        # moving towards the base case.\n",
        "        return n * recursive_factorial(n - 1)\n",
        "\n",
        "# Summary of the algorithm's flow:\n",
        "\"\"\"\n",
        "1.  **Function Call:** The `recursive_factorial` function is called with an integer `n`.\n",
        "2.  **Base Case Check:** It first checks if `n` is 0 or 1.\n",
        "3.  **Base Case Execution:** If `n` is 0 or 1, the function returns 1, and the recursion stops for this branch.\n",
        "4.  **Recursive Step Execution:** If `n` is greater than 1, the function returns the product of `n` and the result of calling itself with `n-1`.\n",
        "5.  **Recursive Calls:** This process repeats, with each call to `recursive_factorial` using a smaller number, until the base case (`n=0` or `n=1`) is reached.\n",
        "6.  **Result Propagation:** Once the base case is reached, the results from each recursive call are multiplied back up the call stack until the initial call returns the final factorial value.\n",
        "\"\"\"\n",
        "\n",
        "# Example usage:\n",
        "number = 5\n",
        "result = recursive_factorial(number)\n",
        "print(f\"The factorial of {number} is {result}\")\n",
        "\n",
        "number = 0\n",
        "result = recursive_factorial(number)\n",
        "print(f\"The factorial of {number} is {result}\")"
      ],
      "execution_count": 13,
      "outputs": [
        {
          "output_type": "stream",
          "name": "stdout",
          "text": [
            "The factorial of 5 is 120\n",
            "The factorial of 0 is 1\n"
          ]
        }
      ]
    },
    {
      "cell_type": "code",
      "source": [
        "Task Description #7 (Inclusiveness in Customer Support)\n",
        "Code Snippet:\n",
        "def support_reply(name, gender):\n",
        "      if gender.lower() == \"male\":\n",
        "              prefix = \"Mr.\"\n",
        "                  else:\n",
        "                          prefix = \"Mrs.\"\n",
        "                              return f\"Dear {prefix} {name}, we have resolved your issue.\"\n",
        "\n",
        "\n",
        "\n",
        "Task:\n",
        "Regenerate the code so that support messages use neutral language (e.g., “Dear {name}”) and optionally accept preferred titles.\n",
        "Expected Output:\n",
        "•       Neutral, user-friendly support responses."
      ],
      "metadata": {
        "colab": {
          "base_uri": "https://localhost:8080/",
          "height": 124
        },
        "id": "lrcRfv2lCbse",
        "outputId": "9b3f9b40-7a41-4328-a06d-4ac3ae099c9e"
      },
      "execution_count": 14,
      "outputs": [
        {
          "output_type": "error",
          "ename": "SyntaxError",
          "evalue": "invalid character '“' (U+201C) (ipython-input-1698259286.py, line 13)",
          "traceback": [
            "\u001b[0;36m  File \u001b[0;32m\"/tmp/ipython-input-1698259286.py\"\u001b[0;36m, line \u001b[0;32m13\u001b[0m\n\u001b[0;31m    Regenerate the code so that support messages use neutral language (e.g., “Dear {name}”) and optionally accept preferred titles.\u001b[0m\n\u001b[0m                                                                             ^\u001b[0m\n\u001b[0;31mSyntaxError\u001b[0m\u001b[0;31m:\u001b[0m invalid character '“' (U+201C)\n"
          ]
        }
      ]
    },
    {
      "cell_type": "code",
      "metadata": {
        "colab": {
          "base_uri": "https://localhost:8080/"
        },
        "id": "29fd9399",
        "outputId": "f7faf31b-bd07-4045-d3ae-70a5c4d835bd"
      },
      "source": [
        "def support_reply_inclusive(name, preferred_title=None):\n",
        "  \"\"\"\n",
        "  Generates a customer support reply using neutral language or a preferred title.\n",
        "\n",
        "  Args:\n",
        "    name (str): The customer's name.\n",
        "    preferred_title (str, optional): The customer's preferred title (e.g., \"Dr.\", \"Ms.\").\n",
        "                                     If None, neutral language is used.\n",
        "\n",
        "  Returns:\n",
        "    str: The inclusive customer support reply.\n",
        "  \"\"\"\n",
        "  if preferred_title:\n",
        "    return f\"Dear {preferred_title} {name}, we have resolved your issue.\"\n",
        "  else:\n",
        "    return f\"Dear {name}, we have resolved your issue.\"\n",
        "\n",
        "# Example usage:\n",
        "print(support_reply_inclusive(\"Alice\"))\n",
        "print(support_reply_inclusive(\"Bob\", preferred_title=\"Mr.\"))\n",
        "print(support_reply_inclusive(\"Charlie\", preferred_title=\"Dr.\"))"
      ],
      "execution_count": 15,
      "outputs": [
        {
          "output_type": "stream",
          "name": "stdout",
          "text": [
            "Dear Alice, we have resolved your issue.\n",
            "Dear Mr. Bob, we have resolved your issue.\n",
            "Dear Dr. Charlie, we have resolved your issue.\n"
          ]
        }
      ]
    }
  ]
}