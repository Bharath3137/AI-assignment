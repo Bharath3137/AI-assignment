{
  "nbformat": 4,
  "nbformat_minor": 0,
  "metadata": {
    "colab": {
      "provenance": [],
      "authorship_tag": "ABX9TyN6q3DFYNiU3/87TyuqepQr",
      "include_colab_link": true
    },
    "kernelspec": {
      "name": "python3",
      "display_name": "Python 3"
    },
    "language_info": {
      "name": "python"
    }
  },
  "cells": [
    {
      "cell_type": "markdown",
      "metadata": {
        "id": "view-in-github",
        "colab_type": "text"
      },
      "source": [
        "<a href=\"https://colab.research.google.com/github/Bharath3137/AI-assignment/blob/main/assignment%204.3.ipynb\" target=\"_parent\"><img src=\"https://colab.research.google.com/assets/colab-badge.svg\" alt=\"Open In Colab\"/></a>"
      ]
    },
    {
      "cell_type": "code",
      "execution_count": null,
      "metadata": {
        "id": "8ozCSwRRzjSH"
      },
      "outputs": [],
      "source": [
        "Task Description#1\n",
        "● Zero-shot: Prompt AI to write a function that checks whether a given year is a leap\n",
        "year."
      ]
    },
    {
      "cell_type": "code",
      "metadata": {
        "colab": {
          "base_uri": "https://localhost:8080/"
        },
        "id": "436c9dca",
        "outputId": "ad2186be-8204-4384-e124-9d17134a3a16"
      },
      "source": [
        "def is_leap(year):\n",
        "  \"\"\"\n",
        "  Checks if a given year is a leap year.\n",
        "\n",
        "  Args:\n",
        "    year: An integer representing the year.\n",
        "\n",
        "  Returns:\n",
        "    True if the year is a leap year, False otherwise.\n",
        "  \"\"\"\n",
        "  return (year % 4 == 0 and year % 100 != 0) or (year % 400 == 0)\n",
        "\n",
        "# Example usage:\n",
        "print(f\"2000 is a leap year: {is_leap(2000)}\")\n",
        "print(f\"1900 is a leap year: {is_leap(1900)}\")\n",
        "print(f\"2024 is a leap year: {is_leap(2024)}\")\n",
        "print(f\"2023 is a leap year: {is_leap(2023)}\")"
      ],
      "execution_count": 1,
      "outputs": [
        {
          "output_type": "stream",
          "name": "stdout",
          "text": [
            "2000 is a leap year: True\n",
            "1900 is a leap year: False\n",
            "2024 is a leap year: True\n",
            "2023 is a leap year: False\n"
          ]
        }
      ]
    },
    {
      "cell_type": "markdown",
      "metadata": {
        "id": "8beca33a"
      },
      "source": [
        "**Explanation:**\n",
        "\n",
        "The `is_leap(year)` function determines if a year is a leap year based on these rules:\n",
        "\n",
        "1.  A year is a leap year if it is divisible by 4.\n",
        "2.  However, if the year is divisible by 100, it is **not** a leap year, unless...\n",
        "3.  The year is also divisible by 400. In this case, it **is** a leap year.\n",
        "\n",
        "The code implements these rules using the modulo operator (`%`) to check for divisibility.\n",
        "\n",
        "*   `(year % 4 == 0 and year % 100 != 0)` checks the first two conditions: divisible by 4 but not by 100.\n",
        "*   `(year % 400 == 0)` checks the third condition: divisible by 400.\n",
        "*   The `or` operator combines these conditions. If either is true, the year is a leap year."
      ]
    },
    {
      "cell_type": "code",
      "source": [
        "Task Description#2\n",
        "● One-shot: Give one input-output example to guide AI in writing a function that\n",
        "converts centimeters to inches"
      ],
      "metadata": {
        "id": "E4SzTyAJ0iXd"
      },
      "execution_count": null,
      "outputs": []
    },
    {
      "cell_type": "code",
      "metadata": {
        "colab": {
          "base_uri": "https://localhost:8080/"
        },
        "id": "201d286c",
        "outputId": "ddb372a0-d59c-4700-bc01-4d3f3f6093fb"
      },
      "source": [
        "# One-shot example for converting centimeters to inches:\n",
        "# Input: 10 centimeters\n",
        "# Expected Output: 3.937 inches\n",
        "\n",
        "def convert_cm_to_inches(cm):\n",
        "  \"\"\"\n",
        "  Converts centimeters to inches.\n",
        "\n",
        "  Args:\n",
        "    cm: The length in centimeters (float or int).\n",
        "\n",
        "  Returns:\n",
        "    The length in inches (float).\n",
        "  \"\"\"\n",
        "  inches = cm * 0.393701\n",
        "  return inches\n",
        "\n",
        "# Example usage:\n",
        "cm_input = 10\n",
        "inches_output = convert_cm_to_inches(cm_input)\n",
        "print(f\"{cm_input} centimeters is equal to {inches_output} inches.\")"
      ],
      "execution_count": 2,
      "outputs": [
        {
          "output_type": "stream",
          "name": "stdout",
          "text": [
            "10 centimeters is equal to 3.9370100000000003 inches.\n"
          ]
        }
      ]
    },
    {
      "cell_type": "markdown",
      "metadata": {
        "id": "baa9d0c2"
      },
      "source": [
        "**Explanation:**\n",
        "\n",
        "This code cell provides a one-shot example for an AI to understand how to convert centimeters to inches.\n",
        "\n",
        "*   **`# One-shot example...`**: This is a comment indicating the start of the example.\n",
        "*   **`# Input: 10 centimeters`**: This specifies the input value (10 centimeters).\n",
        "*   **`# Expected Output: 3.937 inches`**: This shows the expected output for the given input, which is the result of converting 10 centimeters to inches (approximately 3.937 inches).\n",
        "*   **`def convert_cm_to_inches(cm):`**: This defines a function named `convert_cm_to_inches` that takes one argument, `cm` (centimeters).\n",
        "*   **`inches = cm * 0.393701`**: This is the core conversion logic. It multiplies the input centimeters by the conversion factor (0.393701) to get the equivalent value in inches.\n",
        "*   **`return inches`**: The function returns the calculated inches value.\n",
        "*   **`cm_input = 10`**, **`inches_output = convert_cm_to_inches(cm_input)`**, **`print(...)`**: These lines demonstrate how to use the function with the example input and print the result.\n",
        "\n",
        "This single example helps the AI learn the relationship between centimeters and inches and how to structure a function for this conversion."
      ]
    },
    {
      "cell_type": "code",
      "source": [
        "# Task Description#3\n",
        "# Few-shot: Provide 2–3 examples to generate a function that formats full names as\n",
        "# “Last, First”\n",
        "\n",
        "# Few-shot examples for formatting full names:\n",
        "# Example 1:\n",
        "# Input: \"John Doe\"\n",
        "# Expected Output: \"Doe, John\"\n",
        "\n",
        "# Example 2:\n",
        "# Input: \"Jane Smith\"\n",
        "# Expected Output: \"Smith, Jane\"\n",
        "\n",
        "# Example 3:\n",
        "# Input: \"Peter Jones\"\n",
        "# Expected Output: \"Jones, Peter\"\n",
        "\n",
        "def format_name(full_name):\n",
        "  \"\"\"\n",
        "  Formats a full name as \"Last, First\".\n",
        "\n",
        "  Args:\n",
        "    full_name: A string containing the full name (e.g., \"John Doe\").\n",
        "\n",
        "  Returns:\n",
        "    A string with the name formatted as \"Last, First\".\n",
        "  \"\"\"\n",
        "  name_parts = full_name.split()\n",
        "  if len(name_parts) > 1:\n",
        "    return f\"{name_parts[-1]}, {' '.join(name_parts[:-1])}\"\n",
        "  else:\n",
        "    return full_name # Return as is if only one name part\n",
        "\n",
        "# Example usage:\n",
        "print(f\"Formatted name for 'John Doe': {format_name('John Doe')}\")\n",
        "print(f\"Formatted name for 'Jane Smith': {format_name('Jane Smith')}\")\n",
        "print(f\"Formatted name for 'Peter Jones': {format_name('Peter Jones')}\")\n",
        "print(f\"Formatted name for 'SingleName': {format_name('SingleName')}\")"
      ],
      "metadata": {
        "colab": {
          "base_uri": "https://localhost:8080/"
        },
        "id": "e4aG-80t0_MW",
        "outputId": "11f25df4-0e67-4bc6-fba0-9b21b8188768"
      },
      "execution_count": 4,
      "outputs": [
        {
          "output_type": "stream",
          "name": "stdout",
          "text": [
            "Formatted name for 'John Doe': Doe, John\n",
            "Formatted name for 'Jane Smith': Smith, Jane\n",
            "Formatted name for 'Peter Jones': Jones, Peter\n",
            "Formatted name for 'SingleName': SingleName\n"
          ]
        }
      ]
    },
    {
      "cell_type": "markdown",
      "metadata": {
        "id": "94c1db50"
      },
      "source": [
        "**Explanation:**\n",
        "\n",
        "This code cell demonstrates a few-shot approach to generating a function that formats a full name as \"Last, First\".\n",
        "\n",
        "*   **`# Task Description#3...`**: This comment describes the task, highlighting that it's a \"Few-shot\" example and the goal is to format names.\n",
        "*   **`# Few-shot examples...`**: These comments provide the input and expected output for a few different names (\"John Doe\", \"Jane Smith\", \"Peter Jones\"). These examples help guide the AI in understanding the desired transformation.\n",
        "*   **`def format_name(full_name):`**: This defines the function `format_name` that takes one argument, `full_name`.\n",
        "*   **`name_parts = full_name.split()`**: This line splits the input `full_name` string into a list of strings using spaces as delimiters. For example, \"John Doe\" becomes `['John', 'Doe']`.\n",
        "*   **`if len(name_parts) > 1:`**: This checks if the name has more than one part (i.e., a first and last name).\n",
        "*   **`return f\"{name_parts[-1]}, {' '.join(name_parts[:-1])}\"`**: If the name has multiple parts, this line formats the output string.\n",
        "    *   `name_parts[-1]` gets the last element of the list (the last name).\n",
        "    *   `' '.join(name_parts[:-1])` joins all elements except the last one (the first name(s)) back together with a space in between.\n",
        "    *   The `f\"\"` string creates the final output in the format \"Last, First\".\n",
        "*   **`else: return full_name`**: If the name has only one part (e.g., \"SingleName\"), the function returns the original input name as is.\n",
        "*   **`# Example usage...`**: These lines demonstrate how to call the `format_name` function with the provided examples and print the results.\n",
        "\n",
        "These examples and the resulting function illustrate how a few examples can be used to train a model to perform a specific text formatting task."
      ]
    },
    {
      "cell_type": "code",
      "source": [
        "Task Description#4\n",
        "● Compare zero-shot and few-shot prompts for writing a function that counts the\n",
        "number of vowels in a string."
      ],
      "metadata": {
        "id": "2qpqhU1b1opw"
      },
      "execution_count": null,
      "outputs": []
    },
    {
      "cell_type": "code",
      "metadata": {
        "colab": {
          "base_uri": "https://localhost:8080/"
        },
        "id": "ecdf3509",
        "outputId": "1b777816-077a-420f-893e-053ad300ea09"
      },
      "source": [
        "def count_vowels(text):\n",
        "  \"\"\"\n",
        "  Counts the number of vowels in a given string.\n",
        "\n",
        "  Args:\n",
        "    text: The input string.\n",
        "\n",
        "  Returns:\n",
        "    The number of vowels in the string.\n",
        "  \"\"\"\n",
        "  vowels = \"aeiouAEIOU\"\n",
        "  vowel_count = 0\n",
        "  for char in text:\n",
        "    if char in vowels:\n",
        "      vowel_count += 1\n",
        "  return vowel_count\n",
        "\n",
        "# Example usage:\n",
        "print(f\"Number of vowels in 'Hello World': {count_vowels('Hello World')}\")\n",
        "print(f\"Number of vowels in 'Python Programming': {count_vowels('Python Programming')}\")\n",
        "print(f\"Number of vowels in 'AEIOU': {count_vowels('AEIOU')}\")\n",
        "print(f\"Number of vowels in 'bcdfg': {count_vowels('bcdfg')}\")"
      ],
      "execution_count": 5,
      "outputs": [
        {
          "output_type": "stream",
          "name": "stdout",
          "text": [
            "Number of vowels in 'Hello World': 3\n",
            "Number of vowels in 'Python Programming': 4\n",
            "Number of vowels in 'AEIOU': 5\n",
            "Number of vowels in 'bcdfg': 0\n"
          ]
        }
      ]
    },
    {
      "cell_type": "markdown",
      "metadata": {
        "id": "94ac60c6"
      },
      "source": [
        "**Explanation:**\n",
        "\n",
        "The `count_vowels(text)` function counts the number of vowels in a given string.\n",
        "\n",
        "*   **`vowels = \"aeiouAEIOU\"`**: This line creates a string containing all lowercase and uppercase vowels.\n",
        "*   **`vowel_count = 0`**: This initializes a counter variable to keep track of the number of vowels found.\n",
        "*   **`for char in text:`**: This loop iterates through each character in the input `text` string.\n",
        "*   **`if char in vowels:`**: Inside the loop, this condition checks if the current character (`char`) is present in the `vowels` string.\n",
        "*   **`vowel_count += 1`**: If the character is a vowel, the `vowel_count` is incremented by 1.\n",
        "*   **`return vowel_count`**: After the loop finishes, the function returns the final `vowel_count`.\n",
        "\n",
        "The example usage lines demonstrate how to call the function with different strings and print the results."
      ]
    },
    {
      "cell_type": "code",
      "source": [
        "Use few-shot prompting to generate a function that reads a .txt file and returns the\n",
        "number of lines."
      ],
      "metadata": {
        "id": "rtL5zFu_2Dzc"
      },
      "execution_count": null,
      "outputs": []
    },
    {
      "cell_type": "code",
      "metadata": {
        "colab": {
          "base_uri": "https://localhost:8080/"
        },
        "id": "5c355d90",
        "outputId": "0af143c0-1ce8-4421-ed00-39cd10612890"
      },
      "source": [
        "# Create a dummy text file for demonstration\n",
        "file_content = \"\"\"This is line 1.\n",
        "This is line 2.\n",
        "This is line 3.\n",
        "This is line 4.\n",
        "\"\"\"\n",
        "\n",
        "with open(\"example.txt\", \"w\") as f:\n",
        "  f.write(file_content)\n",
        "\n",
        "def count_lines_in_file(filename):\n",
        "  \"\"\"\n",
        "  Reads a .txt file and returns the number of lines.\n",
        "\n",
        "  Args:\n",
        "    filename: The path to the text file.\n",
        "\n",
        "  Returns:\n",
        "    The number of lines in the file (integer).\n",
        "  \"\"\"\n",
        "  try:\n",
        "    with open(filename, 'r') as f:\n",
        "      lines = f.readlines()\n",
        "      return len(lines)\n",
        "  except FileNotFoundError:\n",
        "    print(f\"Error: File '{filename}' not found.\")\n",
        "    return -1 # Or raise an exception, depending on desired behavior\n",
        "\n",
        "# Example usage:\n",
        "file_name = \"example.txt\"\n",
        "line_count = count_lines_in_file(file_name)\n",
        "\n",
        "if line_count != -1:\n",
        "  print(f\"The file '{file_name}' has {line_count} lines.\")\n",
        "\n",
        "# Example with a non-existent file:\n",
        "non_existent_file = \"non_existent.txt\"\n",
        "count_lines_in_file(non_existent_file)"
      ],
      "execution_count": 6,
      "outputs": [
        {
          "output_type": "stream",
          "name": "stdout",
          "text": [
            "The file 'example.txt' has 4 lines.\n",
            "Error: File 'non_existent.txt' not found.\n"
          ]
        },
        {
          "output_type": "execute_result",
          "data": {
            "text/plain": [
              "-1"
            ]
          },
          "metadata": {},
          "execution_count": 6
        }
      ]
    },
    {
      "cell_type": "markdown",
      "metadata": {
        "id": "a0d7930c"
      },
      "source": [
        "**Explanation:**\n",
        "\n",
        "This code cell provides a function to read a text file and count its lines.\n",
        "\n",
        "1.  **Dummy File Creation:** The first part of the code (`file_content = ...` and `with open(\"example.txt\", \"w\") as f: ...`) creates a simple text file named \"example.txt\" with four lines for demonstration purposes.\n",
        "2.  **`def count_lines_in_file(filename):`**: This defines the function `count_lines_in_file` that takes one argument, `filename` (the path to the text file).\n",
        "3.  **`try...except FileNotFoundError`**: This block handles potential errors. If the file specified by `filename` is not found, it prints an error message and returns -1.\n",
        "4.  **`with open(filename, 'r') as f:`**: This opens the file in read mode (`'r'`). The `with` statement ensures the file is automatically closed even if errors occur.\n",
        "5.  **`lines = f.readlines()`**: This reads all lines from the opened file and stores them as a list of strings in the `lines` variable.\n",
        "6.  **`return len(lines)`**: The function returns the number of elements in the `lines` list, which corresponds to the total number of lines in the file.\n",
        "7.  **Example Usage:** The code then demonstrates how to use the function with the created \"example.txt\" and also shows what happens when you try to use it with a file that doesn't exist."
      ]
    }
  ]
}